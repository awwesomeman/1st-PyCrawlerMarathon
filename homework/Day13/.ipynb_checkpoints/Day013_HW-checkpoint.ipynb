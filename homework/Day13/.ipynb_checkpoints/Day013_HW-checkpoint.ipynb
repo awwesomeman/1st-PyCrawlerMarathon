{
 "cells": [
  {
   "cell_type": "markdown",
   "metadata": {},
   "source": [
    "# PTT 網路爬蟲實作練習\n",
    "\n",
    "\n",
    "* 能夠利用 Request + BeatifulSour 撰寫爬蟲，並存放到合適的資料結構\n"
   ]
  },
  {
   "cell_type": "markdown",
   "metadata": {},
   "source": [
    "## 作業目標\n",
    "\n",
    "根據範例 ，完成以下問題：\n",
    "\n",
    "* ① 印出最新文章的「作者」「標題」「時間」\n",
    "* ② 印出第一頁所有文章的「作者」「標題」「時間」\n"
   ]
  },
  {
   "cell_type": "markdown",
   "metadata": {},
   "source": [
    "### ① 印出最新文章的「作者」「標題」「時間」"
   ]
  },
  {
   "cell_type": "code",
   "execution_count": 1,
   "metadata": {
    "scrolled": false
   },
   "outputs": [
    {
     "name": "stdout",
     "output_type": "stream",
     "text": [
      "[花邊] 林書豪攻28分 不敵前金塊主控勞森領軍的福建\n",
      "作者: LinBaoYan (負酬者聯盟)\n",
      "[情報] 籃網裁掉Iman Shumpert\n",
      "作者: juniorcheng (junior)\n",
      "[情報] 騎士除Garland外所有人都可交易\n",
      "作者: kakala99 (Fernando Torres #9)\n",
      "[Live] 七六人 @ 超賽\n",
      "作者: Rambo (香帥)\n",
      "[Live] 騎士 @ 馬刺\n",
      "作者: Rambo (香帥)\n",
      "[Live] 獨行俠 @ 活塞\n",
      "作者: Rambo (香帥)\n",
      "[討論] 湖人對公鹿有什麼策略?\n",
      "作者: Expiation (Expiation)\n",
      "[花邊] Rose：Kobe是我的榜樣，想和他一樣偉大\n",
      "作者: Yui5 (唯控)\n",
      "[情報] 灰狼仍有意Dlo，後者意識到自己不是勇士\n",
      "作者: Yui5 (唯控)\n",
      "Re: [花邊] 當湖人主場播放歌手Lizzo歌曲時，本人在場邊直接表演露\n",
      "作者: kairiyu (E N O U G H  is  enough)\n",
      "[情報] Drummond 對酪梨產生過敏  造成眼睛腫脹\n",
      "作者: thnlkj0665 (灰色地帶)\n",
      "[情報] 歡迎回歸!綠軍全場球迷為Horford起立歡呼\n",
      "作者: Muma5566 (木馬56)\n",
      "[討論] LBJ的生涯是否缺少驚喜？\n",
      "作者: Nakata0911 (夏亞　阿茲納布 )\n",
      "[公告] 板規v6.6\n",
      "[公告] 樂透取消及未來不再開啟樂透\n",
      "作者: Vedan (味丹)\n",
      "[公告] 版主上任相關事項 \n",
      "作者: qazwsx879345 (Rajon Rondo)\n",
      "[情報] SEASON Schedule 賽程 December 19–20\n",
      "作者: JerroLi (銀色小刀)\n",
      "[公告]是否禁止basketball top 5文章投票開始 \n",
      "作者: dragon803 (好想去露營啊~)\n"
     ]
    }
   ],
   "source": [
    "import requests\n",
    "from bs4 import BeautifulSoup\n",
    "\n",
    "url = 'https://www.ptt.cc/bbs/NBA/index.html'\n",
    "r = requests.get(url)\n",
    "\n",
    "soup = BeautifulSoup(r.text, \"html5lib\")\n",
    "\n",
    "for d in soup.find_all(class_=\"title\"):\n",
    "    print(d.text.replace('\\t', '').replace('\\n', ''))\n",
    "    try:\n",
    "        r = BeautifulSoup(requests.get('https://www.ptt.cc'+d.find('a')['href']).text, \"html5lib\")\n",
    "        print('作者: ' + r.find(class_='article-meta-value').text)\n",
    "    except:\n",
    "        continue"
   ]
  },
  {
   "cell_type": "code",
   "execution_count": null,
   "metadata": {},
   "outputs": [],
   "source": []
  },
  {
   "cell_type": "markdown",
   "metadata": {},
   "source": [
    "### ② 印出第一頁所有文章的「作者」「標題」「時間」"
   ]
  },
  {
   "cell_type": "code",
   "execution_count": null,
   "metadata": {},
   "outputs": [],
   "source": [
    "'''\n",
    "Your Code\n",
    "'''"
   ]
  },
  {
   "cell_type": "markdown",
   "metadata": {},
   "source": [
    "### ③ 試著爬爬看其他版的文章"
   ]
  },
  {
   "cell_type": "code",
   "execution_count": null,
   "metadata": {},
   "outputs": [],
   "source": [
    "'''\n",
    "Your Code\n",
    "'''"
   ]
  },
  {
   "cell_type": "code",
   "execution_count": null,
   "metadata": {},
   "outputs": [],
   "source": []
  }
 ],
 "metadata": {
  "kernelspec": {
   "display_name": "Python 3",
   "language": "python",
   "name": "python3"
  },
  "language_info": {
   "codemirror_mode": {
    "name": "ipython",
    "version": 3
   },
   "file_extension": ".py",
   "mimetype": "text/x-python",
   "name": "python",
   "nbconvert_exporter": "python",
   "pygments_lexer": "ipython3",
   "version": "3.7.4"
  }
 },
 "nbformat": 4,
 "nbformat_minor": 2
}
