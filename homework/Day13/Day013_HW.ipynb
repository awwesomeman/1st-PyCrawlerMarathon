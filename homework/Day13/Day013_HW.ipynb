{
 "cells": [
  {
   "cell_type": "markdown",
   "metadata": {},
   "source": [
    "# PTT 網路爬蟲實作練習\n",
    "\n",
    "\n",
    "* 能夠利用 Request + BeatifulSour 撰寫爬蟲，並存放到合適的資料結構\n"
   ]
  },
  {
   "cell_type": "markdown",
   "metadata": {},
   "source": [
    "## 作業目標\n",
    "\n",
    "根據範例 ，完成以下問題：\n",
    "\n",
    "* ① 印出最新文章的「作者」「標題」「時間」\n",
    "* ② 印出第一頁所有文章的「作者」「標題」「時間」\n"
   ]
  },
  {
   "cell_type": "markdown",
   "metadata": {},
   "source": [
    "### ① 印出最新文章的「作者」「標題」「時間」"
   ]
  },
  {
   "cell_type": "code",
   "execution_count": null,
   "metadata": {},
   "outputs": [],
   "source": [
    "#import requests\n",
    "#from bs4 import BeautifulSoup\n",
    "#\n",
    "#url = 'https://www.ptt.cc/bbs/NBA/index.html'\n",
    "#r = requests.get(url)\n",
    "#\n",
    "#soup = BeautifulSoup(r.text, \"html5lib\")\n",
    "#for d in soup.find_all(class_=\"title\"):\n",
    "#    print(d.text.replace('\\t', '').replace('\\n', ''))\n",
    "#    try:\n",
    "#        r = BeautifulSoup(requests.get('https://www.ptt.cc'+d.find('a')['href']).text, \"html5lib\")\n",
    "#        print('作者: ' + r.find(class_='article-meta-value').text)\n",
    "#    except:\n",
    "#        continue"
   ]
  },
  {
   "cell_type": "code",
   "execution_count": 1,
   "metadata": {},
   "outputs": [],
   "source": [
    "import requests\n",
    "from bs4 import BeautifulSoup\n",
    "\n",
    "url = 'https://www.ptt.cc/bbs/NBA/index.html'\n",
    "r = requests.get(url)\n",
    "\n",
    "soup = BeautifulSoup(r.text, \"html5lib\")"
   ]
  },
  {
   "cell_type": "code",
   "execution_count": 8,
   "metadata": {
    "collapsed": true
   },
   "outputs": [
    {
     "name": "stdout",
     "output_type": "stream",
     "text": [
      "標題 [BOX ] Sixers 115:109 Celtics 數據\n",
      "作者 : Rambo 時間 : 12/13\n",
      "標題 [BOX ] Cavaliers 117:109 Spurs 數據\n",
      "作者 : Rambo 時間 : 12/13\n",
      "標題 [外絮] LBJ:Dudley跟你們說過他會為我們挺身而出\n",
      "作者 : JaredDudley 時間 : 12/13\n",
      "標題 [BOX ] Mavericks 122:111 Pistons 數據\n",
      "作者 : Rambo 時間 : 12/13\n",
      "標題 [公告] 水桶 \n",
      "作者 : namie810303 時間 : 12/13\n",
      "標題 [情報] 21歲前30+大三元 10次Doncic占7次\n",
      "作者 : TysonRoss 時間 : 12/13\n",
      "標題 [討論] 鵜鶘到底怎麼了?\n",
      "作者 : winnabe 時間 : 12/13\n",
      "標題 [討論] J.Embiid 扛得住巔峰俠客嗎 ?\n",
      "作者 : qtbang 時間 : 12/13\n",
      "標題 [BOX ] Blazers 99:114 Nuggets 數據\n",
      "作者 : Rambo 時間 : 12/13\n",
      "標題 [新聞] 成為更好版本的自己 哈沃德肺腑之言獲隊友力挺\n",
      "作者 : LinBaoYan 時間 : 12/13\n",
      "標題 [情報]詹姆斯:我們是如此幸運能在夏天簽下Howard\n",
      "作者 : la1aco 時間 : 12/13\n",
      "標題 [討論] 阿拓Whiteside神奇的一球\n",
      "作者 : pneumo 時間 : 12/13\n",
      "標題 [公告] 板規v6.6\n",
      "作者 : Vedan 時間 :  5/24\n",
      "標題 [公告] 樂透取消及未來不再開啟樂透\n",
      "作者 : Vedan 時間 :  6/24\n",
      "標題 [公告] 版主上任相關事項 \n",
      "作者 : qazwsx879345 時間 : 10/25\n",
      "標題 [情報] SEASON Schedule 賽程 December 19–20\n",
      "作者 : JerroLi 時間 : 11/29\n",
      "標題 [公告]是否禁止basketball top 5文章投票開始 \n",
      "作者 : dragon803 時間 : 12/08\n"
     ]
    }
   ],
   "source": [
    "list_title = soup.find_all(class_=\"title\")\n",
    "list_author_and_time = soup.find_all(class_=\"meta\")\n",
    "\n",
    "for i, j in zip(list_title,list_author_and_time):\n",
    "    print(\"標題\", i.text.replace('\\t', '').replace('\\n', ''))\n",
    "    print(\"作者 :\", j.find(class_='author').text,\"時間 :\", j.find(class_='date').text)"
   ]
  },
  {
   "cell_type": "markdown",
   "metadata": {},
   "source": [
    "### ② 印出第一頁所有文章的「作者」「標題」「時間」"
   ]
  },
  {
   "cell_type": "code",
   "execution_count": null,
   "metadata": {},
   "outputs": [],
   "source": []
  },
  {
   "cell_type": "code",
   "execution_count": null,
   "metadata": {},
   "outputs": [],
   "source": [
    "'''\n",
    "Your Code\n",
    "'''"
   ]
  },
  {
   "cell_type": "markdown",
   "metadata": {},
   "source": [
    "### ③ 試著爬爬看其他版的文章"
   ]
  },
  {
   "cell_type": "code",
   "execution_count": null,
   "metadata": {},
   "outputs": [],
   "source": [
    "'''\n",
    "Your Code\n",
    "'''"
   ]
  },
  {
   "cell_type": "code",
   "execution_count": null,
   "metadata": {},
   "outputs": [],
   "source": []
  }
 ],
 "metadata": {
  "kernelspec": {
   "display_name": "Python 3",
   "language": "python",
   "name": "python3"
  },
  "language_info": {
   "codemirror_mode": {
    "name": "ipython",
    "version": 3
   },
   "file_extension": ".py",
   "mimetype": "text/x-python",
   "name": "python",
   "nbconvert_exporter": "python",
   "pygments_lexer": "ipython3",
   "version": "3.7.4"
  }
 },
 "nbformat": 4,
 "nbformat_minor": 2
}
