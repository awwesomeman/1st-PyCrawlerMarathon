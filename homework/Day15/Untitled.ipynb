{
 "cells": [
  {
   "cell_type": "markdown",
   "metadata": {},
   "source": [
    "pandas.date_range\n",
    "\n",
    "https://pandas.pydata.org/pandas-docs/stable/reference/api/pandas.date_range.html#pandas.date_range\n",
    "\n",
    "用series創建df\n",
    "\n",
    "https://blog.csdn.net/bqw18744018044/article/details/79934285\n",
    "\n",
    "https://www.geeksforgeeks.org/creating-a-dataframe-from-pandas-series/"
   ]
  },
  {
   "cell_type": "code",
   "execution_count": 89,
   "metadata": {},
   "outputs": [],
   "source": [
    "import requests\n",
    "from bs4 import BeautifulSoup\n",
    "from datetime import datetime, timedelta\n",
    "import pandas as pd\n",
    "import matplotlib.pyplot as plt"
   ]
  },
  {
   "cell_type": "code",
   "execution_count": 137,
   "metadata": {},
   "outputs": [
    {
     "data": {
      "text/html": [
       "<div>\n",
       "<style scoped>\n",
       "    .dataframe tbody tr th:only-of-type {\n",
       "        vertical-align: middle;\n",
       "    }\n",
       "\n",
       "    .dataframe tbody tr th {\n",
       "        vertical-align: top;\n",
       "    }\n",
       "\n",
       "    .dataframe thead th {\n",
       "        text-align: right;\n",
       "    }\n",
       "</style>\n",
       "<table border=\"1\" class=\"dataframe\">\n",
       "  <thead>\n",
       "    <tr style=\"text-align: right;\">\n",
       "      <th></th>\n",
       "      <th>China_ex</th>\n",
       "      <th>China_im</th>\n",
       "      <th>Jp_ex</th>\n",
       "      <th>Jp_im</th>\n",
       "      <th>Eur_ex</th>\n",
       "      <th>Eur_im</th>\n",
       "      <th>US_ex</th>\n",
       "      <th>US_im</th>\n",
       "      <th>nominal_GDP</th>\n",
       "    </tr>\n",
       "    <tr>\n",
       "      <th>年</th>\n",
       "      <th></th>\n",
       "      <th></th>\n",
       "      <th></th>\n",
       "      <th></th>\n",
       "      <th></th>\n",
       "      <th></th>\n",
       "      <th></th>\n",
       "      <th></th>\n",
       "      <th></th>\n",
       "    </tr>\n",
       "  </thead>\n",
       "  <tbody>\n",
       "    <tr>\n",
       "      <td>99年</td>\n",
       "      <td>2459720</td>\n",
       "      <td>1143576</td>\n",
       "      <td>582646</td>\n",
       "      <td>1671112</td>\n",
       "      <td>930429</td>\n",
       "      <td>849908</td>\n",
       "      <td>996657</td>\n",
       "      <td>829026</td>\n",
       "      <td>14060345</td>\n",
       "    </tr>\n",
       "    <tr>\n",
       "      <td>100年</td>\n",
       "      <td>2500315</td>\n",
       "      <td>1294611</td>\n",
       "      <td>561954</td>\n",
       "      <td>1561050</td>\n",
       "      <td>921702</td>\n",
       "      <td>904256</td>\n",
       "      <td>1070477</td>\n",
       "      <td>793731</td>\n",
       "      <td>14262201</td>\n",
       "    </tr>\n",
       "    <tr>\n",
       "      <td>101年</td>\n",
       "      <td>2444440</td>\n",
       "      <td>1226482</td>\n",
       "      <td>577810</td>\n",
       "      <td>1431450</td>\n",
       "      <td>854537</td>\n",
       "      <td>873444</td>\n",
       "      <td>980630</td>\n",
       "      <td>735634</td>\n",
       "      <td>14677765</td>\n",
       "    </tr>\n",
       "    <tr>\n",
       "      <td>102年</td>\n",
       "      <td>2494581</td>\n",
       "      <td>1285130</td>\n",
       "      <td>575049</td>\n",
       "      <td>1295528</td>\n",
       "      <td>827446</td>\n",
       "      <td>919478</td>\n",
       "      <td>967916</td>\n",
       "      <td>823672</td>\n",
       "      <td>15270728</td>\n",
       "    </tr>\n",
       "    <tr>\n",
       "      <td>103年</td>\n",
       "      <td>2562611</td>\n",
       "      <td>1490032</td>\n",
       "      <td>608815</td>\n",
       "      <td>1270018</td>\n",
       "      <td>879391</td>\n",
       "      <td>969427</td>\n",
       "      <td>1060100</td>\n",
       "      <td>887912</td>\n",
       "      <td>16258047</td>\n",
       "    </tr>\n",
       "    <tr>\n",
       "      <td>104年</td>\n",
       "      <td>2321423</td>\n",
       "      <td>1435293</td>\n",
       "      <td>619957</td>\n",
       "      <td>1231654</td>\n",
       "      <td>820222</td>\n",
       "      <td>902242</td>\n",
       "      <td>1091609</td>\n",
       "      <td>898797</td>\n",
       "      <td>17055080</td>\n",
       "    </tr>\n",
       "    <tr>\n",
       "      <td>105年</td>\n",
       "      <td>2373741</td>\n",
       "      <td>1417963</td>\n",
       "      <td>627965</td>\n",
       "      <td>1309027</td>\n",
       "      <td>842815</td>\n",
       "      <td>931597</td>\n",
       "      <td>1076497</td>\n",
       "      <td>873510</td>\n",
       "      <td>17555268</td>\n",
       "    </tr>\n",
       "    <tr>\n",
       "      <td>106年</td>\n",
       "      <td>2700760</td>\n",
       "      <td>1523328</td>\n",
       "      <td>626624</td>\n",
       "      <td>1277382</td>\n",
       "      <td>876478</td>\n",
       "      <td>953497</td>\n",
       "      <td>1119501</td>\n",
       "      <td>865570</td>\n",
       "      <td>17983347</td>\n",
       "    </tr>\n",
       "    <tr>\n",
       "      <td>107年</td>\n",
       "      <td>2909695</td>\n",
       "      <td>1621790</td>\n",
       "      <td>687337</td>\n",
       "      <td>1329933</td>\n",
       "      <td>942526</td>\n",
       "      <td>1042836</td>\n",
       "      <td>1191357</td>\n",
       "      <td>998973</td>\n",
       "      <td>18342891</td>\n",
       "    </tr>\n",
       "    <tr>\n",
       "      <td>108年</td>\n",
       "      <td>2842027</td>\n",
       "      <td>1774764</td>\n",
       "      <td>720355</td>\n",
       "      <td>1361657</td>\n",
       "      <td>921093</td>\n",
       "      <td>1130197</td>\n",
       "      <td>1431193</td>\n",
       "      <td>1076759</td>\n",
       "      <td>18925767</td>\n",
       "    </tr>\n",
       "  </tbody>\n",
       "</table>\n",
       "</div>"
      ],
      "text/plain": [
       "      China_ex  China_im   Jp_ex    Jp_im  Eur_ex   Eur_im    US_ex    US_im  \\\n",
       "年                                                                              \n",
       "99年    2459720   1143576  582646  1671112  930429   849908   996657   829026   \n",
       "100年   2500315   1294611  561954  1561050  921702   904256  1070477   793731   \n",
       "101年   2444440   1226482  577810  1431450  854537   873444   980630   735634   \n",
       "102年   2494581   1285130  575049  1295528  827446   919478   967916   823672   \n",
       "103年   2562611   1490032  608815  1270018  879391   969427  1060100   887912   \n",
       "104年   2321423   1435293  619957  1231654  820222   902242  1091609   898797   \n",
       "105年   2373741   1417963  627965  1309027  842815   931597  1076497   873510   \n",
       "106年   2700760   1523328  626624  1277382  876478   953497  1119501   865570   \n",
       "107年   2909695   1621790  687337  1329933  942526  1042836  1191357   998973   \n",
       "108年   2842027   1774764  720355  1361657  921093  1130197  1431193  1076759   \n",
       "\n",
       "      nominal_GDP  \n",
       "年                  \n",
       "99年      14060345  \n",
       "100年     14262201  \n",
       "101年     14677765  \n",
       "102年     15270728  \n",
       "103年     16258047  \n",
       "104年     17055080  \n",
       "105年     17555268  \n",
       "106年     17983347  \n",
       "107年     18342891  \n",
       "108年     18925767  "
      ]
     },
     "execution_count": 137,
     "metadata": {},
     "output_type": "execute_result"
    }
   ],
   "source": [
    "url = \"http://web02.mof.gov.tw/njswww/WebProxy.aspx?sys=220&ym=9900&ymt=10800&kind=21&type=1&funid=i9111&cycle=4&outmode=0&compmode=00&outkind=1&fld1=1&codspc0=2,1,4,1,50,1,93,1,&codlst1=110&rdm=KxKyL5eB\"\n",
    "resp = requests.get(url)\n",
    "resp.encoding = 'utf-8'\n",
    "\n",
    "dfs = pd.read_html(resp.text)\n",
    "df = dfs[1]\n",
    "df.columns = df.columns.get_level_values(0)\n",
    "df.columns = ['年','China_ex','China_im','Jp_ex','Jp_im','Eur_ex','Eur_im','US_ex','US_im']\n",
    "df['nominal_GDP'] = [14060345,14262201,14677765,15270728,16258047,17055080,17555268,17983347,18342891,18925767]\n",
    "#df.rename(columns={'Unnamed: 0_level_0':'Year'}, inplace = True)\n",
    "df.set_index(\"年\")"
   ]
  },
  {
   "cell_type": "code",
   "execution_count": 72,
   "metadata": {
    "scrolled": false
   },
   "outputs": [
    {
     "data": {
      "text/plain": [
       "Index(['年', 'China_ex', 'China_im', 'Jp_ex', 'Jp_im', 'Eur_ex', 'Eur_im',\n",
       "       'US_ex', 'US_im', 'nominal_GDP'],\n",
       "      dtype='object')"
      ]
     },
     "execution_count": 72,
     "metadata": {},
     "output_type": "execute_result"
    }
   ],
   "source": [
    "df.columns"
   ]
  },
  {
   "cell_type": "code",
   "execution_count": 138,
   "metadata": {},
   "outputs": [],
   "source": [
    "China = (df['China_ex']+df['China_im'])/df['nominal_GDP']\n",
    "Japan = (df['Jp_ex']+df['Jp_im'])/df['nominal_GDP']\n",
    "Eur = (df['Eur_ex']+df['Eur_im'])/df['nominal_GDP']\n",
    "US = (df['US_ex']+df['US_im'])/df['nominal_GDP']"
   ]
  },
  {
   "cell_type": "code",
   "execution_count": 139,
   "metadata": {},
   "outputs": [
    {
     "data": {
      "text/html": [
       "<div>\n",
       "<style scoped>\n",
       "    .dataframe tbody tr th:only-of-type {\n",
       "        vertical-align: middle;\n",
       "    }\n",
       "\n",
       "    .dataframe tbody tr th {\n",
       "        vertical-align: top;\n",
       "    }\n",
       "\n",
       "    .dataframe thead th {\n",
       "        text-align: right;\n",
       "    }\n",
       "</style>\n",
       "<table border=\"1\" class=\"dataframe\">\n",
       "  <thead>\n",
       "    <tr style=\"text-align: right;\">\n",
       "      <th></th>\n",
       "      <th>China</th>\n",
       "      <th>Japan</th>\n",
       "      <th>Eur</th>\n",
       "      <th>US</th>\n",
       "    </tr>\n",
       "  </thead>\n",
       "  <tbody>\n",
       "    <tr>\n",
       "      <td>2010-01-31</td>\n",
       "      <td>0.256274</td>\n",
       "      <td>0.160292</td>\n",
       "      <td>0.126621</td>\n",
       "      <td>0.129846</td>\n",
       "    </tr>\n",
       "    <tr>\n",
       "      <td>2011-01-31</td>\n",
       "      <td>0.266083</td>\n",
       "      <td>0.148855</td>\n",
       "      <td>0.128028</td>\n",
       "      <td>0.130710</td>\n",
       "    </tr>\n",
       "    <tr>\n",
       "      <td>2012-01-31</td>\n",
       "      <td>0.250101</td>\n",
       "      <td>0.136891</td>\n",
       "      <td>0.117728</td>\n",
       "      <td>0.116930</td>\n",
       "    </tr>\n",
       "    <tr>\n",
       "      <td>2013-01-31</td>\n",
       "      <td>0.247513</td>\n",
       "      <td>0.122494</td>\n",
       "      <td>0.114397</td>\n",
       "      <td>0.117322</td>\n",
       "    </tr>\n",
       "    <tr>\n",
       "      <td>2014-01-31</td>\n",
       "      <td>0.249270</td>\n",
       "      <td>0.115563</td>\n",
       "      <td>0.113717</td>\n",
       "      <td>0.119818</td>\n",
       "    </tr>\n",
       "    <tr>\n",
       "      <td>2015-01-31</td>\n",
       "      <td>0.220270</td>\n",
       "      <td>0.108567</td>\n",
       "      <td>0.100994</td>\n",
       "      <td>0.116705</td>\n",
       "    </tr>\n",
       "    <tr>\n",
       "      <td>2016-01-31</td>\n",
       "      <td>0.215987</td>\n",
       "      <td>0.110337</td>\n",
       "      <td>0.101076</td>\n",
       "      <td>0.111078</td>\n",
       "    </tr>\n",
       "    <tr>\n",
       "      <td>2017-01-31</td>\n",
       "      <td>0.234889</td>\n",
       "      <td>0.105876</td>\n",
       "      <td>0.101759</td>\n",
       "      <td>0.110384</td>\n",
       "    </tr>\n",
       "    <tr>\n",
       "      <td>2018-01-31</td>\n",
       "      <td>0.247043</td>\n",
       "      <td>0.109976</td>\n",
       "      <td>0.108236</td>\n",
       "      <td>0.119410</td>\n",
       "    </tr>\n",
       "    <tr>\n",
       "      <td>2019-01-31</td>\n",
       "      <td>0.243942</td>\n",
       "      <td>0.110009</td>\n",
       "      <td>0.108386</td>\n",
       "      <td>0.132515</td>\n",
       "    </tr>\n",
       "  </tbody>\n",
       "</table>\n",
       "</div>"
      ],
      "text/plain": [
       "               China     Japan       Eur        US\n",
       "2010-01-31  0.256274  0.160292  0.126621  0.129846\n",
       "2011-01-31  0.266083  0.148855  0.128028  0.130710\n",
       "2012-01-31  0.250101  0.136891  0.117728  0.116930\n",
       "2013-01-31  0.247513  0.122494  0.114397  0.117322\n",
       "2014-01-31  0.249270  0.115563  0.113717  0.119818\n",
       "2015-01-31  0.220270  0.108567  0.100994  0.116705\n",
       "2016-01-31  0.215987  0.110337  0.101076  0.111078\n",
       "2017-01-31  0.234889  0.105876  0.101759  0.110384\n",
       "2018-01-31  0.247043  0.109976  0.108236  0.119410\n",
       "2019-01-31  0.243942  0.110009  0.108386  0.132515"
      ]
     },
     "execution_count": 139,
     "metadata": {},
     "output_type": "execute_result"
    }
   ],
   "source": [
    "frame = { 'China': China, 'Japan': Japan, 'Eur': EURO, 'US': US } \n",
    "df2 = pd.DataFrame(frame)\n",
    "df2.set_index(pd.date_range('2010', periods=10,freq = '12M'),inplace = True)\n",
    "df2"
   ]
  },
  {
   "cell_type": "code",
   "execution_count": 143,
   "metadata": {},
   "outputs": [
    {
     "data": {
      "image/png": "[encoded data removed]",
      "text/plain": [
       "<Figure size 576x288 with 1 Axes>"
      ]
     },
     "metadata": {
      "needs_background": "light"
     },
     "output_type": "display_data"
    }
   ],
   "source": [
    "import matplotlib.pyplot as plt\n",
    "import matplotlib.ticker as mtick\n",
    "\n",
    "fig = plt.figure(1, (8, 4))\n",
    "ax = fig.add_subplot(1,1,1)\n",
    "ax.plot(df2)\n",
    "\n",
    "ax.yaxis.set_major_formatter(mtick.PercentFormatter())"
   ]
  },
  {
   "cell_type": "code",
   "execution_count": 144,
   "metadata": {
    "scrolled": true
   },
   "outputs": [
    {
     "data": {
      "text/plain": [
       "<matplotlib.axes._subplots.AxesSubplot at 0x17e6a82fa08>"
      ]
     },
     "execution_count": 144,
     "metadata": {},
     "output_type": "execute_result"
    },
    {
     "data": {
      "image/png": "[encoded data removed]",
      "text/plain": [
       "<Figure size 432x288 with 1 Axes>"
      ]
     },
     "metadata": {
      "needs_background": "light"
     },
     "output_type": "display_data"
    }
   ],
   "source": [
    "%matplotlib inline\n",
    "import matplotlib.ticker as mtick\n",
    "df2.plot()"
   ]
  },
  {
   "cell_type": "code",
   "execution_count": 148,
   "metadata": {},
   "outputs": [
    {
     "data": {
      "text/plain": [
       "array([[<matplotlib.axes._subplots.AxesSubplot object at 0x0000017E6C29CBC8>,\n",
       "        <matplotlib.axes._subplots.AxesSubplot object at 0x0000017E6C3362C8>],\n",
       "       [<matplotlib.axes._subplots.AxesSubplot object at 0x0000017E6C29C108>,\n",
       "        <matplotlib.axes._subplots.AxesSubplot object at 0x0000017E6C39B5C8>]],\n",
       "      dtype=object)"
      ]
     },
     "execution_count": 148,
     "metadata": {},
     "output_type": "execute_result"
    },
    {
     "data": {
      "image/png": "[encoded data removed]",
      "text/plain": [
       "<Figure size 432x432 with 4 Axes>"
      ]
     },
     "metadata": {
      "needs_background": "light"
     },
     "output_type": "display_data"
    }
   ],
   "source": [
    "df2.plot(subplots=True, layout=(2, 2),figsize=(6, 6))"
   ]
  },
  {
   "cell_type": "code",
   "execution_count": 152,
   "metadata": {},
   "outputs": [
    {
     "data": {
      "image/png": "[encoded data removed]",
      "text/plain": [
       "<Figure size 432x288 with 1 Axes>"
      ]
     },
     "metadata": {
      "needs_background": "light"
     },
     "output_type": "display_data"
    }
   ],
   "source": [
    "plt.figure()\n",
    "\n",
    "with pd.plotting.plot_params.use('x_compat', True):\n",
    "    df2.China.plot(color='r')\n",
    "    df2.Japan.plot(color='g')\n",
    "    df2.Eur.plot(color='b')\n",
    "    df2.US.plot(color='r')\n",
    " "
   ]
  },
  {
   "cell_type": "code",
   "execution_count": 80,
   "metadata": {
    "scrolled": true
   },
   "outputs": [],
   "source": [
    "#df2.to_excel('FTD.xls', encoding='utf_8_sig')"
   ]
  }
 ],
 "metadata": {
  "kernelspec": {
   "display_name": "Python 3",
   "language": "python",
   "name": "python3"
  },
  "language_info": {
   "codemirror_mode": {
    "name": "ipython",
    "version": 3
   },
   "file_extension": ".py",
   "mimetype": "text/x-python",
   "name": "python",
   "nbconvert_exporter": "python",
   "pygments_lexer": "ipython3",
   "version": "3.7.4"
  }
 },
 "nbformat": 4,
 "nbformat_minor": 2
}
