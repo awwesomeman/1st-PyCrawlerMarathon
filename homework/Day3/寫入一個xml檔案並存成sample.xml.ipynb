{
 "cells": [
  {
   "cell_type": "markdown",
   "metadata": {},
   "source": [
    "***寫入xml並讀取***"
   ]
  },
  {
   "cell_type": "code",
   "execution_count": 40,
   "metadata": {},
   "outputs": [],
   "source": [
    "xmlfile = '''\n",
    "<?xml version=\"1.0\" encoding=\"UTF-8\"?>\n",
    "<CUPOY>    \n",
    "    <Title>爬蟲⾺馬拉松</Title>    \n",
    "    <Author>Wei</Author>    \n",
    "    <Chapters>        \n",
    "        <Chapter name=\"01\">資料來來源與存取</Chapter>        \n",
    "        <Chapter name=\"02\">靜態網⾴頁爬蟲</Chapter>        \n",
    "        <Chapter name=\"03\">動態網⾴頁爬蟲</Chapter>    \n",
    "    </Chapters>\n",
    "</CUPOY>\n",
    "\n",
    "'''"
   ]
  },
  {
   "cell_type": "markdown",
   "metadata": {},
   "source": [
    "利用 File I/O"
   ]
  },
  {
   "cell_type": "code",
   "execution_count": 41,
   "metadata": {},
   "outputs": [],
   "source": [
    "with open('sample.xml', 'w',encoding=\"utf-8\") as f:\n",
    "    f.write(xmlfile.strip())"
   ]
  },
  {
   "cell_type": "code",
   "execution_count": 42,
   "metadata": {},
   "outputs": [
    {
     "name": "stdout",
     "output_type": "stream",
     "text": [
      "{'CUPOY': OrderedDict([('Title', '爬蟲⾺馬拉松'), ('Author', 'Wei'), ('Chapters', OrderedDict([('Chapter', [OrderedDict([('@name', '01'), ('#text', '資料來來源與存取')]), OrderedDict([('@name', '02'), ('#text', '靜態網⾴頁爬蟲')]), OrderedDict([('@name', '03'), ('#text', '動態網⾴頁爬蟲')])])]))])} \n",
      "\n",
      "爬蟲⾺馬拉松 \n",
      "\n",
      "01 資料來來源與存取\n",
      "02 靜態網⾴頁爬蟲\n",
      "03 動態網⾴頁爬蟲\n"
     ]
    }
   ],
   "source": [
    "import xmltodict \n",
    "# 存取檔案\n",
    "with open('./sample.xml',encoding='utf-8') as fd:     \n",
    "    doc = dict(xmltodict.parse(fd.read()))\n",
    "print(doc,'\\n')\n",
    "\n",
    "# 存取我們的資訊\n",
    "print(doc['CUPOY']['Title'],'\\n') \n",
    "\n",
    "# ⽤用迴圈存取我們的資訊\n",
    "chapters = doc['CUPOY']['Chapters']['Chapter'] \n",
    "for chapter in chapters:     \n",
    "    print (chapter['@name'], chapter['#text']) \n"
   ]
  },
  {
   "cell_type": "markdown",
   "metadata": {},
   "source": [
    "利用IO來讀取"
   ]
  },
  {
   "cell_type": "code",
   "execution_count": 46,
   "metadata": {},
   "outputs": [
    {
     "data": {
      "text/plain": [
       "{'CUPOY': OrderedDict([('Title', '爬蟲⾺馬拉松'),\n",
       "              ('Author', 'Wei'),\n",
       "              ('Chapters',\n",
       "               OrderedDict([('Chapter',\n",
       "                             [OrderedDict([('@name', '01'),\n",
       "                                           ('#text', '資料來來源與存取')]),\n",
       "                              OrderedDict([('@name', '02'),\n",
       "                                           ('#text', '靜態網⾴頁爬蟲')]),\n",
       "                              OrderedDict([('@name', '03'),\n",
       "                                           ('#text', '動態網⾴頁爬蟲')])])]))])}"
      ]
     },
     "execution_count": 46,
     "metadata": {},
     "output_type": "execute_result"
    }
   ],
   "source": [
    "import io\n",
    "doc = dict(xmltodict.parse(io.StringIO(xml.strip()).read()))\n",
    "doc"
   ]
  },
  {
   "cell_type": "code",
   "execution_count": 69,
   "metadata": {},
   "outputs": [
    {
     "data": {
      "text/plain": [
       "odict_keys(['Title', 'Author', 'Chapters'])"
      ]
     },
     "execution_count": 69,
     "metadata": {},
     "output_type": "execute_result"
    }
   ],
   "source": [
    "doc['CUPOY'].keys()"
   ]
  },
  {
   "cell_type": "code",
   "execution_count": 59,
   "metadata": {},
   "outputs": [
    {
     "data": {
      "text/plain": [
       "odict_values(['爬蟲⾺馬拉松', 'Wei', OrderedDict([('Chapter', [OrderedDict([('@name', '01'), ('#text', '資料來來源與存取')]), OrderedDict([('@name', '02'), ('#text', '靜態網⾴頁爬蟲')]), OrderedDict([('@name', '03'), ('#text', '動態網⾴頁爬蟲')])])])])"
      ]
     },
     "execution_count": 59,
     "metadata": {},
     "output_type": "execute_result"
    }
   ],
   "source": [
    "doc['CUPOY'].values()"
   ]
  },
  {
   "cell_type": "markdown",
   "metadata": {},
   "source": [
    "用pandas dataframe"
   ]
  },
  {
   "cell_type": "code",
   "execution_count": 53,
   "metadata": {
    "scrolled": false
   },
   "outputs": [
    {
     "data": {
      "text/html": [
       "<div>\n",
       "<style scoped>\n",
       "    .dataframe tbody tr th:only-of-type {\n",
       "        vertical-align: middle;\n",
       "    }\n",
       "\n",
       "    .dataframe tbody tr th {\n",
       "        vertical-align: top;\n",
       "    }\n",
       "\n",
       "    .dataframe thead th {\n",
       "        text-align: right;\n",
       "    }\n",
       "</style>\n",
       "<table border=\"1\" class=\"dataframe\">\n",
       "  <thead>\n",
       "    <tr style=\"text-align: right;\">\n",
       "      <th></th>\n",
       "      <th>column</th>\n",
       "    </tr>\n",
       "  </thead>\n",
       "  <tbody>\n",
       "    <tr>\n",
       "      <td>0</td>\n",
       "      <td>&lt;CUPOY&gt;</td>\n",
       "    </tr>\n",
       "    <tr>\n",
       "      <td>1</td>\n",
       "      <td>&lt;Title&gt;爬蟲⾺馬拉松&lt;/Title&gt;</td>\n",
       "    </tr>\n",
       "    <tr>\n",
       "      <td>2</td>\n",
       "      <td>&lt;Author&gt;Wei&lt;/Author&gt;</td>\n",
       "    </tr>\n",
       "    <tr>\n",
       "      <td>3</td>\n",
       "      <td>&lt;Chapters&gt;</td>\n",
       "    </tr>\n",
       "    <tr>\n",
       "      <td>4</td>\n",
       "      <td>&lt;Chapter name=\"01\"&gt;資料來來源與存取&lt;/Chapter&gt; ...</td>\n",
       "    </tr>\n",
       "    <tr>\n",
       "      <td>5</td>\n",
       "      <td>&lt;Chapter name=\"02\"&gt;靜態網⾴頁爬蟲&lt;/Chapter&gt;  ...</td>\n",
       "    </tr>\n",
       "    <tr>\n",
       "      <td>6</td>\n",
       "      <td>&lt;Chapter name=\"03\"&gt;動態網⾴頁爬蟲&lt;/Chapter&gt;</td>\n",
       "    </tr>\n",
       "    <tr>\n",
       "      <td>7</td>\n",
       "      <td>&lt;/Chapters&gt;</td>\n",
       "    </tr>\n",
       "    <tr>\n",
       "      <td>8</td>\n",
       "      <td>&lt;/CUPOY&gt;</td>\n",
       "    </tr>\n",
       "  </tbody>\n",
       "</table>\n",
       "</div>"
      ],
      "text/plain": [
       "                                              column\n",
       "0                                        <CUPOY>    \n",
       "1                          <Title>爬蟲⾺馬拉松</Title>    \n",
       "2                           <Author>Wei</Author>    \n",
       "3                                 <Chapters>        \n",
       "4          <Chapter name=\"01\">資料來來源與存取</Chapter> ...\n",
       "5          <Chapter name=\"02\">靜態網⾴頁爬蟲</Chapter>  ...\n",
       "6           <Chapter name=\"03\">動態網⾴頁爬蟲</Chapter>    \n",
       "7                                        </Chapters>\n",
       "8                                           </CUPOY>"
      ]
     },
     "execution_count": 53,
     "metadata": {},
     "output_type": "execute_result"
    }
   ],
   "source": [
    "import pandas as pd\n",
    "df = pd.read_csv(io.StringIO(xml))\n",
    "df.columns=['column']\n",
    "df"
   ]
  },
  {
   "cell_type": "code",
   "execution_count": 55,
   "metadata": {},
   "outputs": [
    {
     "data": {
      "text/html": [
       "<div>\n",
       "<style scoped>\n",
       "    .dataframe tbody tr th:only-of-type {\n",
       "        vertical-align: middle;\n",
       "    }\n",
       "\n",
       "    .dataframe tbody tr th {\n",
       "        vertical-align: top;\n",
       "    }\n",
       "\n",
       "    .dataframe thead th {\n",
       "        text-align: right;\n",
       "    }\n",
       "</style>\n",
       "<table border=\"1\" class=\"dataframe\">\n",
       "  <thead>\n",
       "    <tr style=\"text-align: right;\">\n",
       "      <th></th>\n",
       "      <th>newcolumn</th>\n",
       "    </tr>\n",
       "  </thead>\n",
       "  <tbody>\n",
       "    <tr>\n",
       "      <td>0</td>\n",
       "      <td>&lt;CUPOY&gt;</td>\n",
       "    </tr>\n",
       "    <tr>\n",
       "      <td>1</td>\n",
       "      <td>&lt;Title&gt;爬蟲⾺馬拉松&lt;/Title&gt;</td>\n",
       "    </tr>\n",
       "    <tr>\n",
       "      <td>2</td>\n",
       "      <td>&lt;Author&gt;Wei&lt;/Author&gt;</td>\n",
       "    </tr>\n",
       "    <tr>\n",
       "      <td>3</td>\n",
       "      <td>&lt;Chapters&gt;</td>\n",
       "    </tr>\n",
       "    <tr>\n",
       "      <td>4</td>\n",
       "      <td>&lt;Chapter name=\"01\"&gt;資料來來源與存取&lt;/Chapter&gt; ...</td>\n",
       "    </tr>\n",
       "    <tr>\n",
       "      <td>5</td>\n",
       "      <td>&lt;Chapter name=\"02\"&gt;靜態網⾴頁爬蟲&lt;/Chapter&gt;  ...</td>\n",
       "    </tr>\n",
       "    <tr>\n",
       "      <td>6</td>\n",
       "      <td>&lt;Chapter name=\"03\"&gt;動態網⾴頁爬蟲&lt;/Chapter&gt;</td>\n",
       "    </tr>\n",
       "    <tr>\n",
       "      <td>7</td>\n",
       "      <td>&lt;/Chapters&gt;</td>\n",
       "    </tr>\n",
       "    <tr>\n",
       "      <td>8</td>\n",
       "      <td>&lt;/CUPOY&gt;</td>\n",
       "    </tr>\n",
       "  </tbody>\n",
       "</table>\n",
       "</div>"
      ],
      "text/plain": [
       "                                           newcolumn\n",
       "0                                        <CUPOY>    \n",
       "1                          <Title>爬蟲⾺馬拉松</Title>    \n",
       "2                           <Author>Wei</Author>    \n",
       "3                                 <Chapters>        \n",
       "4          <Chapter name=\"01\">資料來來源與存取</Chapter> ...\n",
       "5          <Chapter name=\"02\">靜態網⾴頁爬蟲</Chapter>  ...\n",
       "6           <Chapter name=\"03\">動態網⾴頁爬蟲</Chapter>    \n",
       "7                                        </Chapters>\n",
       "8                                           </CUPOY>"
      ]
     },
     "execution_count": 55,
     "metadata": {},
     "output_type": "execute_result"
    }
   ],
   "source": [
    "df.rename(columns={'column':'newcolumn'})"
   ]
  },
  {
   "cell_type": "markdown",
   "metadata": {},
   "source": [
    "***寫入一個xml檔案***\n",
    "\n",
    "\n",
    "參考來源\n",
    "\n",
    "https://blog.csdn.net/Tcorpion/article/details/75244681\n",
    "\n",
    "https://jennaweng0621.pixnet.net/blog/post/401303462"
   ]
  },
  {
   "cell_type": "code",
   "execution_count": 4,
   "metadata": {},
   "outputs": [],
   "source": [
    "from xml.dom.minidom import Document\n",
    "doc = Document()\n",
    "people = doc.createElement(\"people\")\n",
    "doc.appendChild(people)\n",
    "\n",
    "aperson = doc.createElement(\"person\")\n",
    "people.appendChild(aperson)\n",
    "\n",
    "name = doc.createElement(\"name\")\n",
    "aperson.appendChild(name)\n",
    "\n",
    "personname = doc.createTextNode(\"Annie\")\n",
    "name.appendChild(personname)\n",
    "filename = \"people.xml\"\n",
    "f = open(filename, \"w\")\n",
    "f.write(doc.toprettyxml(indent=\"  \"))\n",
    "f.close()\n"
   ]
  },
  {
   "cell_type": "code",
   "execution_count": 11,
   "metadata": {},
   "outputs": [
    {
     "name": "stdout",
     "output_type": "stream",
     "text": [
      "<?xml version=\"1.0\" ?>\n",
      "<people>\n",
      "  <person>\n",
      "    <name>Annie</name>\n",
      "  </person>\n",
      "</people>\n",
      "\n"
     ]
    }
   ],
   "source": [
    "with open('people.xml') as fd:\n",
    "    f = fd.read()\n",
    "print(f)"
   ]
  }
 ],
 "metadata": {
  "kernelspec": {
   "display_name": "Python 3",
   "language": "python",
   "name": "python3"
  },
  "language_info": {
   "codemirror_mode": {
    "name": "ipython",
    "version": 3
   },
   "file_extension": ".py",
   "mimetype": "text/x-python",
   "name": "python",
   "nbconvert_exporter": "python",
   "pygments_lexer": "ipython3",
   "version": "3.7.4"
  }
 },
 "nbformat": 4,
 "nbformat_minor": 2
}
