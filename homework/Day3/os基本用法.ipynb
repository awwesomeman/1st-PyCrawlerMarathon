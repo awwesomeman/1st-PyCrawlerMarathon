{
 "cells": [
  {
   "cell_type": "code",
   "execution_count": 1,
   "metadata": {},
   "outputs": [],
   "source": [
    "import os"
   ]
  },
  {
   "cell_type": "markdown",
   "metadata": {},
   "source": [
    "***參考來源***\n",
    "\n",
    "https://kknews.cc/zh-tw/code/eo4x2qz.html \n",
    "\n",
    "https://www.runoob.com/python/os-file-methods.html  \n",
    "\n",
    "https://www.zhihu.com/question/31843617\n"
   ]
  },
  {
   "cell_type": "markdown",
   "metadata": {},
   "source": [
    "***回傳當前工作目錄 (把檔案所在的路徑抓出來)***\n",
    "\n",
    "1. 方法getcwd()，會返回當前目錄的完整路徑\n",
    "\n",
    "\n",
    "2. 屬性curdir，會返回一個點號代表當前目錄"
   ]
  },
  {
   "cell_type": "code",
   "execution_count": 2,
   "metadata": {
    "scrolled": true
   },
   "outputs": [
    {
     "data": {
      "text/plain": [
       "'C:\\\\Users\\\\CIER\\\\Desktop\\\\Github\\\\1st-PyCrawlerMarathon\\\\homework\\\\Day3'"
      ]
     },
     "execution_count": 2,
     "metadata": {},
     "output_type": "execute_result"
    }
   ],
   "source": [
    "os.getcwd()"
   ]
  },
  {
   "cell_type": "code",
   "execution_count": 3,
   "metadata": {},
   "outputs": [
    {
     "data": {
      "text/plain": [
       "'.'"
      ]
     },
     "execution_count": 3,
     "metadata": {},
     "output_type": "execute_result"
    }
   ],
   "source": [
    "os.curdir"
   ]
  },
  {
   "cell_type": "markdown",
   "metadata": {},
   "source": [
    "***創建目錄***\n",
    "1. os.mkdir(dirpath) 創建目錄dirpath。如果dirpath中間有某個路徑不存在，則該方法會報錯。只能創建最低一級的那級目錄。\n",
    "\n",
    "\n",
    "2. os.makedirs(dirpath) 遞歸地創建目錄dirpath，如果dirpath中間有某個路徑不存在，則會創建該路徑，然後繼續遞歸創建下一級目錄。"
   ]
  },
  {
   "cell_type": "code",
   "execution_count": 4,
   "metadata": {},
   "outputs": [],
   "source": [
    "#在上一層資料夾創建一個資料夾叫做day3.test\n",
    "os.mkdir('../day3_test')\n",
    "os.makedirs('../day3_test/test1/test2')"
   ]
  },
  {
   "cell_type": "markdown",
   "metadata": {},
   "source": [
    "***將當前工作目錄改變為指定的路徑***"
   ]
  },
  {
   "cell_type": "code",
   "execution_count": 5,
   "metadata": {},
   "outputs": [
    {
     "data": {
      "text/plain": [
       "'C:\\\\Users\\\\CIER\\\\Desktop\\\\Github\\\\1st-PyCrawlerMarathon\\\\homework\\\\day3_test'"
      ]
     },
     "execution_count": 5,
     "metadata": {},
     "output_type": "execute_result"
    }
   ],
   "source": [
    "os.chdir('../day3_test')\n",
    "os.getcwd()"
   ]
  },
  {
   "cell_type": "markdown",
   "metadata": {},
   "source": [
    "***重命名文件或目錄***\n",
    "\n",
    "可用os.rename(old, new)方法或renames方法"
   ]
  },
  {
   "cell_type": "code",
   "execution_count": 8,
   "metadata": {},
   "outputs": [
    {
     "name": "stdout",
     "output_type": "stream",
     "text": [
      "目录为: ['test1', 'testfile']\n",
      "目录为: C:\\Users\\CIER\\Desktop\\Github\\1st-PyCrawlerMarathon\\homework\\day3_test\n",
      "目录为: ['new_testfile', 'test1']\n"
     ]
    }
   ],
   "source": [
    "# 列出當前目录(當前資料夾內的檔案)\n",
    "print (\"目录为: %s\"%os.listdir(os.getcwd()))\n",
    "\n",
    "#列出當前目錄路徑\n",
    "print(\"目录为: {0:s}\".format(os.getcwd()))\n",
    "\n",
    "#重命名文件\n",
    "os.rename(\"testfile\",\"new_testfile\")\n",
    "\n",
    "#列出改變過內容之目录\n",
    "print(\"目录为: %s\" %os.listdir(os.getcwd()))"
   ]
  },
  {
   "cell_type": "code",
   "execution_count": 32,
   "metadata": {},
   "outputs": [],
   "source": [
    "#改變當前路徑下之目錄(資料夾)、文件名稱，但無法對所存在之資料夾做名稱改變\n",
    "os.renames(\"old\",\"new\")\n",
    "os.rename(\"old\",\"new\")"
   ]
  },
  {
   "cell_type": "markdown",
   "metadata": {},
   "source": [
    "***回傳目錄底下的所有檔案名稱列表(list) (抓資料夾裡的所有檔案名稱)***"
   ]
  },
  {
   "cell_type": "code",
   "execution_count": 9,
   "metadata": {},
   "outputs": [
    {
     "data": {
      "text/plain": [
       "['new_testfile', 'test1']"
      ]
     },
     "execution_count": 9,
     "metadata": {},
     "output_type": "execute_result"
    }
   ],
   "source": [
    "path2 = os.getcwd()\n",
    "os.listdir(path2)"
   ]
  },
  {
   "cell_type": "markdown",
   "metadata": {},
   "source": [
    "***創建文件***"
   ]
  },
  {
   "cell_type": "code",
   "execution_count": 7,
   "metadata": {},
   "outputs": [],
   "source": [
    "with open('./testfile', 'w+') as f:\n",
    "    pass"
   ]
  },
  {
   "cell_type": "markdown",
   "metadata": {},
   "source": [
    "***刪除文件***\n",
    "\n",
    "刪除文件和目錄，應該使用\n",
    "\n",
    "os.remove()，刪除文件\n",
    "\n",
    "os.rmdir()，刪除空目錄\n",
    "\n",
    "注意，rmdir只能刪除空目錄，如果要刪除的目錄不為空，則會拋出異常。\n",
    "\n",
    "如果需要強制刪除非空目錄，應該使用shutil模塊的rmtree()方法 shutil.rmtree()。\n"
   ]
  },
  {
   "cell_type": "code",
   "execution_count": 10,
   "metadata": {},
   "outputs": [],
   "source": [
    "os.remove('new_testfile')"
   ]
  },
  {
   "cell_type": "code",
   "execution_count": 11,
   "metadata": {},
   "outputs": [],
   "source": [
    "os.rmdir('./test1/test2')"
   ]
  },
  {
   "cell_type": "markdown",
   "metadata": {},
   "source": [
    "***os.path是os下的子模塊***"
   ]
  },
  {
   "cell_type": "markdown",
   "metadata": {},
   "source": [
    "os.path.split(path)\n",
    "\n",
    "該函數可以把path表示的路徑分割成(目錄名, 文件名)的元組形式，而不管path是否真的存在。\n"
   ]
  },
  {
   "cell_type": "code",
   "execution_count": 18,
   "metadata": {
    "scrolled": true
   },
   "outputs": [
    {
     "data": {
      "text/plain": [
       "('C:\\\\Users\\\\CIER\\\\Desktop\\\\Github\\\\1st-PyCrawlerMarathon\\\\homework',\n",
       " 'day3.test')"
      ]
     },
     "execution_count": 18,
     "metadata": {},
     "output_type": "execute_result"
    }
   ],
   "source": [
    "#把最後一項分割出來，可能是文件或是目錄\n",
    "os.path.split(r\"C:\\Users\\CIER\\Desktop\\Github\\1st-PyCrawlerMarathon\\homework\\day3.test\")\n"
   ]
  },
  {
   "cell_type": "code",
   "execution_count": 19,
   "metadata": {},
   "outputs": [
    {
     "data": {
      "text/plain": [
       "('C:\\\\Python36', 'file.txt')"
      ]
     },
     "execution_count": 19,
     "metadata": {},
     "output_type": "execute_result"
    }
   ],
   "source": [
    "os.path.split(r\"C:\\Python36\\file.txt\")"
   ]
  },
  {
   "cell_type": "markdown",
   "metadata": {},
   "source": [
    "os.path.splitext(path)\n",
    "\n",
    "該函數可以把path表示的路徑分割成(路徑前綴, 擴展名)的元組形式，而不管path是否真的存在。\n"
   ]
  },
  {
   "cell_type": "code",
   "execution_count": 20,
   "metadata": {},
   "outputs": [
    {
     "data": {
      "text/plain": [
       "('F:\\\\mydir\\\\1', '.mp4')"
      ]
     },
     "execution_count": 20,
     "metadata": {},
     "output_type": "execute_result"
    }
   ],
   "source": [
    "os.path.splitext(r\"F:\\mydir\\1.mp4\")"
   ]
  },
  {
   "cell_type": "code",
   "execution_count": 22,
   "metadata": {
    "scrolled": true
   },
   "outputs": [
    {
     "data": {
      "text/plain": [
       "('C:\\\\Users\\\\CIER\\\\Desktop\\\\Github\\\\1st-PyCrawlerMarathon\\\\homework\\\\day3_test',\n",
       " '')"
      ]
     },
     "execution_count": 22,
     "metadata": {},
     "output_type": "execute_result"
    }
   ],
   "source": [
    "os.path.splitext(r'C:\\Users\\CIER\\Desktop\\Github\\1st-PyCrawlerMarathon\\homework\\day3_test')"
   ]
  },
  {
   "cell_type": "markdown",
   "metadata": {},
   "source": [
    "os.path.join(dirpath, filename)\n",
    "\n",
    "如果我們拿到了一個目錄名與一個文件名，想把這兩個連接起來，我們一般會使用斜槓\"/\"連接，但是路徑分隔符\"/\"其實是與作業系統相關的，在windows中是\"\\\\\"，在Unix中是\"/\"，比較麻煩。我們可以使用join()方法來連接\n",
    "\n",
    "該函數會把dirpath和filename用當前作業系統的路徑分隔符連接起來，而不用我們去判斷當前作業系統的路徑分隔符是\"\\\\\"還是\"/\"了。\n",
    "\n"
   ]
  },
  {
   "cell_type": "code",
   "execution_count": 27,
   "metadata": {},
   "outputs": [
    {
     "data": {
      "text/plain": [
       "'File\\\\test.txt'"
      ]
     },
     "execution_count": 27,
     "metadata": {},
     "output_type": "execute_result"
    }
   ],
   "source": [
    "os.path.join('File', 'test.txt')"
   ]
  },
  {
   "cell_type": "markdown",
   "metadata": {},
   "source": [
    "***獲取目錄名和文件名***\n",
    "\n",
    "os.path.dirname(path)該函數返回path的目錄路徑\n",
    "\n",
    "os.path.basename(path)該函數返回path的文件名\n"
   ]
  },
  {
   "cell_type": "code",
   "execution_count": 33,
   "metadata": {},
   "outputs": [
    {
     "data": {
      "text/plain": [
       "'folder1'"
      ]
     },
     "execution_count": 33,
     "metadata": {},
     "output_type": "execute_result"
    }
   ],
   "source": [
    "os.path.basename(r\"E:\\temp\\folder1\")"
   ]
  },
  {
   "cell_type": "code",
   "execution_count": 34,
   "metadata": {},
   "outputs": [
    {
     "data": {
      "text/plain": [
       "'E:\\\\temp'"
      ]
     },
     "execution_count": 34,
     "metadata": {},
     "output_type": "execute_result"
    }
   ],
   "source": [
    "os.path.dirname(r\"E:\\temp\\folder1\")"
   ]
  },
  {
   "cell_type": "markdown",
   "metadata": {},
   "source": [
    "***判斷文件或目錄***"
   ]
  },
  {
   "cell_type": "code",
   "execution_count": null,
   "metadata": {},
   "outputs": [],
   "source": [
    "os.path.isfile(filepath) #判斷路徑是否為文件，路徑不存在時返回False\n",
    "os.path.isdir(dirpath)#判斷路徑是否為目錄\n",
    "os.path.islink(patch)#判斷路徑是否為鏈結\n",
    "os.path.isabs(patch)#判斷路徑是否為絕對路徑\n",
    "os.path.ismount(patch)#判斷路徑是否為掛載點"
   ]
  }
 ],
 "metadata": {
  "kernelspec": {
   "display_name": "Python 3",
   "language": "python",
   "name": "python3"
  },
  "language_info": {
   "codemirror_mode": {
    "name": "ipython",
    "version": 3
   },
   "file_extension": ".py",
   "mimetype": "text/x-python",
   "name": "python",
   "nbconvert_exporter": "python",
   "pygments_lexer": "ipython3",
   "version": "3.7.4"
  }
 },
 "nbformat": 4,
 "nbformat_minor": 2
}
