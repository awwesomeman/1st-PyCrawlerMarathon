{
 "cells": [
  {
   "cell_type": "markdown",
   "metadata": {},
   "source": [
    "# 其他工具：Grab、PyQuery\n",
    "\n",
    "\n",
    "* 利用 Grab 套件的存取 HTML 資源\n",
    "* 利用 PyQuery 套件的解析 HTML 格式\n"
   ]
  },
  {
   "cell_type": "markdown",
   "metadata": {},
   "source": [
    "## 作業目標\n",
    "\n",
    "將之前用 requests + beatifulsoup 實作的方式，改寫成 grab + pyquery，並且比較有哪些地方不同。\n",
    "\n",
    "\n",
    "\n"
   ]
  },
  {
   "cell_type": "markdown",
   "metadata": {},
   "source": [
    "## requests + BeautifulSoup\n"
   ]
  },
  {
   "cell_type": "code",
   "execution_count": 2,
   "metadata": {
    "collapsed": true
   },
   "outputs": [
    {
     "name": "stdout",
     "output_type": "stream",
     "text": [
      "Collecting grab\n",
      "  Downloading https://files.pythonhosted.org/packages/26/87/c0b939da311bed38c0c073fd61675cfbe4ba585c2a04370a5b7e106a2639/grab-0.6.41.tar.gz (1.1MB)\n",
      "Collecting weblib>=0.1.28 (from grab)\n",
      "  Downloading https://files.pythonhosted.org/packages/67/16/2761dab6e8515708a2762dc34e6b8e089df21211d98f91d298911f2fd5b0/weblib-0.1.30.tar.gz\n",
      "Requirement already satisfied: six in c:\\users\\cier\\anaconda3\\lib\\site-packages (from grab) (1.12.0)\n",
      "Collecting user_agent (from grab)\n",
      "  Downloading https://files.pythonhosted.org/packages/c3/ca/15546284f62edfec7666ecb6403a6e77f5db850def37cd36f140d99cce02/user_agent-0.1.9.tar.gz\n",
      "Collecting selection (from grab)\n",
      "  Downloading https://files.pythonhosted.org/packages/32/01/7e9f093e502c3b19d8fd8c7046de31534a0254bb6aaced0403739dc7f704/selection-0.0.14.tar.gz\n",
      "Requirement already satisfied: defusedxml in c:\\users\\cier\\anaconda3\\lib\\site-packages (from grab) (0.6.0)\n",
      "Collecting pytils (from weblib>=0.1.28->grab)\n",
      "  Downloading https://files.pythonhosted.org/packages/c6/c1/12b556b5bb393ce5130d57af862d045f57fee764797c0fe837e49cb2a5da/pytils-0.3.tar.gz (89kB)\n",
      "Building wheels for collected packages: grab, weblib, user-agent, selection, pytils\n",
      "  Building wheel for grab (setup.py): started\n",
      "  Building wheel for grab (setup.py): finished with status 'done'\n",
      "  Created wheel for grab: filename=grab-0.6.41-cp37-none-any.whl size=84701 sha256=ca96b96738d81738e9bdf39a8601ab9adbdeb8041394ed0d9e048f042d4acf8c\n",
      "  Stored in directory: C:\\Users\\CIER\\AppData\\Local\\pip\\Cache\\wheels\\84\\ff\\2d\\08f71c11e5b73027dfa7d1ac8bd654b60af2df57ae89bd29d5\n",
      "  Building wheel for weblib (setup.py): started\n",
      "  Building wheel for weblib (setup.py): finished with status 'done'\n",
      "  Created wheel for weblib: filename=weblib-0.1.30-cp37-none-any.whl size=40161 sha256=3e7c367e0ffff0354255e276a1b9c13ddd9be7e209f5221a5a493c09070c02d8\n",
      "  Stored in directory: C:\\Users\\CIER\\AppData\\Local\\pip\\Cache\\wheels\\4d\\92\\d1\\f89cbbefae35442b82a069a60f6b596c77f22ab5d58813e4a4\n",
      "  Building wheel for user-agent (setup.py): started\n",
      "  Building wheel for user-agent (setup.py): finished with status 'done'\n",
      "  Created wheel for user-agent: filename=user_agent-0.1.9-cp37-none-any.whl size=18812 sha256=34332183cfe84fd53c67e4fd43311d60d6b9b1ddff0ecb64ec9c158feb6d4233\n",
      "  Stored in directory: C:\\Users\\CIER\\AppData\\Local\\pip\\Cache\\wheels\\92\\80\\3f\\5d79277825042f2d4d447f594e3fc046f1e506f2b481d364b2\n",
      "  Building wheel for selection (setup.py): started\n",
      "  Building wheel for selection (setup.py): finished with status 'done'\n",
      "  Created wheel for selection: filename=selection-0.0.14-cp37-none-any.whl size=5365 sha256=17ae607afa8d3399d83df4c70ed186d7f9018eb4de88c4f4178cdac91df8d07d\n",
      "  Stored in directory: C:\\Users\\CIER\\AppData\\Local\\pip\\Cache\\wheels\\f6\\78\\ea\\df9f78c9f3fb643b9fc9f6e70fab990e5f8455024d34019418\n",
      "  Building wheel for pytils (setup.py): started\n",
      "  Building wheel for pytils (setup.py): finished with status 'done'\n",
      "  Created wheel for pytils: filename=pytils-0.3-cp37-none-any.whl size=40360 sha256=7588cbc40d3d95c83bcfc4fea953a6a867f2e4b9796b29a52e071b54f3fcc369\n",
      "  Stored in directory: C:\\Users\\CIER\\AppData\\Local\\pip\\Cache\\wheels\\d6\\f9\\dc\\4f07d8ee40d9cfca9973b3f4aeff99d0bb69900e5f3dffbf32\n",
      "Successfully built grab weblib user-agent selection pytils\n",
      "Installing collected packages: pytils, user-agent, weblib, selection, grab\n",
      "Successfully installed grab-0.6.41 pytils-0.3 selection-0.0.14 user-agent-0.1.9 weblib-0.1.30\n"
     ]
    }
   ],
   "source": [
    "! pip install grab"
   ]
  },
  {
   "cell_type": "code",
   "execution_count": 4,
   "metadata": {
    "collapsed": true
   },
   "outputs": [
    {
     "name": "stdout",
     "output_type": "stream",
     "text": [
      "Collecting PyQuery\n",
      "  Downloading https://files.pythonhosted.org/packages/78/43/95d42e386c61cb639d1a0b94f0c0b9f0b7d6b981ad3c043a836c8b5bc68b/pyquery-1.4.1-py2.py3-none-any.whl\n",
      "Requirement already satisfied: lxml>=2.1 in c:\\users\\cier\\anaconda3\\lib\\site-packages (from PyQuery) (4.4.1)\n",
      "Collecting cssselect>0.7.9 (from PyQuery)\n",
      "  Downloading https://files.pythonhosted.org/packages/3b/d4/3b5c17f00cce85b9a1e6f91096e1cc8e8ede2e1be8e96b87ce1ed09e92c5/cssselect-1.1.0-py2.py3-none-any.whl\n",
      "Installing collected packages: cssselect, PyQuery\n",
      "Successfully installed PyQuery-1.4.1 cssselect-1.1.0\n"
     ]
    }
   ],
   "source": [
    "! pip install PyQuery"
   ]
  },
  {
   "cell_type": "code",
   "execution_count": 6,
   "metadata": {},
   "outputs": [
    {
     "name": "stdout",
     "output_type": "stream",
     "text": [
      "<class 'bs4.element.Tag'> Google\n"
     ]
    }
   ],
   "source": [
    "import requests\n",
    "from bs4 import BeautifulSoup\n",
    "\n",
    "r = requests.get('https://google.com')\n",
    "soup = BeautifulSoup(r.text, 'lxml')\n",
    "print(type(soup.title), soup.title.text)"
   ]
  },
  {
   "cell_type": "markdown",
   "metadata": {},
   "source": [
    "## Grab + PyQuery"
   ]
  },
  {
   "cell_type": "code",
   "execution_count": 5,
   "metadata": {
    "scrolled": false
   },
   "outputs": [
    {
     "name": "stdout",
     "output_type": "stream",
     "text": [
      "<class 'pyquery.pyquery.PyQuery'> Google\n"
     ]
    }
   ],
   "source": [
    "from grab import Grab\n",
    "g = Grab()\n",
    "resp = g.go('https://google.com')\n",
    "\n",
    "from pyquery import PyQuery as pq\n",
    "doc = pq(resp.body)\n",
    "title = doc('title')\n",
    "print(type(title), title.text())"
   ]
  },
  {
   "cell_type": "code",
   "execution_count": null,
   "metadata": {},
   "outputs": [],
   "source": []
  }
 ],
 "metadata": {
  "kernelspec": {
   "display_name": "Python 3",
   "language": "python",
   "name": "python3"
  },
  "language_info": {
   "codemirror_mode": {
    "name": "ipython",
    "version": 3
   },
   "file_extension": ".py",
   "mimetype": "text/x-python",
   "name": "python",
   "nbconvert_exporter": "python",
   "pygments_lexer": "ipython3",
   "version": "3.7.4"
  }
 },
 "nbformat": 4,
 "nbformat_minor": 2
}
