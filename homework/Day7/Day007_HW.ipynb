{
 "cells": [
  {
   "cell_type": "markdown",
   "metadata": {},
   "source": [
    "# HTTP 靜態網頁架構說明\n",
    "\n",
    "* 認識靜態網頁的溝通架構與運作原理\n",
    "* HTML、CSS、JavaScript 在網頁中扮演的角色\n",
    "* 網頁中定位資料的方法"
   ]
  },
  {
   "cell_type": "markdown",
   "metadata": {},
   "source": [
    "## 作業目標\n",
    "\n",
    "1. （簡答題）請問目前提到的這種基於 HTTP 一來一回的網頁傳輸方式，有哪些缺點及問題？\n",
    "2. （簡答題）網頁中使用的 JavaScipt 程式語言，跟我們一般使用的 Python 在執行上有什麼不同。\n"
   ]
  },
  {
   "cell_type": "markdown",
   "metadata": {},
   "source": [
    "### 1.（簡答題）請問目前提到的這種基於 HTTP 一來一回的網頁傳輸方式，有哪些缺點及問題？"
   ]
  },
  {
   "cell_type": "markdown",
   "metadata": {},
   "source": [
    "有安全隱憂，在HTTP協定下，資料傳輸是可以被輕易抓取的，也容易被攔截竄改內容\n",
    "\n",
    "依據現在進行爬蟲的角度而言，資料為api類型的執行效率高資料為網頁類型，因現在普遍都是動態網頁，所以無法取得真正需要的資料"
   ]
  },
  {
   "cell_type": "markdown",
   "metadata": {},
   "source": [
    "### 2. （簡答題）網頁中使用的 JavaScipt 程式語言，跟我們一般使用的 Python 在執行上有什麼不同。"
   ]
  },
  {
   "cell_type": "markdown",
   "metadata": {},
   "source": [
    "JavaScript主要用來添加HTML頁面的互動指令。本身不具有I/O的功能，物件由環境提供。\n",
    "\n",
    "JavaScript的指令在運行上是可以同時並行的。\n",
    "\n",
    "Python有順序的概念。\n",
    "\n",
    "驅動引擎不一樣普遍上都屬於直譯式語言，javaScript原是用於前端頁面處理（瀏覽器的程式語言），後有Node.Js讓JavaScript也可製作後端服務，而Python就是萬能膠水語言\n",
    "\n",
    "\n",
    "JavaScipt\n",
    "主要要用於完成網頁加載之後對網頁內容的修改,可以直接放在HTML中\n",
    "JavaScipt的語法類似C語言\n",
    "JavaScipt可以前端運行\n",
    "\n",
    "\n",
    "Python\n",
    "可以應用的範圍很大,,但運算速度較慢\n",
    "Python在編程或後台運行"
   ]
  },
  {
   "cell_type": "code",
   "execution_count": null,
   "metadata": {},
   "outputs": [],
   "source": []
  }
 ],
 "metadata": {
  "kernelspec": {
   "display_name": "Python 3",
   "language": "python",
   "name": "python3"
  },
  "language_info": {
   "codemirror_mode": {
    "name": "ipython",
    "version": 3
   },
   "file_extension": ".py",
   "mimetype": "text/x-python",
   "name": "python",
   "nbconvert_exporter": "python",
   "pygments_lexer": "ipython3",
   "version": "3.7.4"
  }
 },
 "nbformat": 4,
 "nbformat_minor": 2
}
