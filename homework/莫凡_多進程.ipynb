{
 "cells": [
  {
   "cell_type": "markdown",
   "metadata": {},
   "source": [
    "**<font size=5> 添加进程 Process</font>**"
   ]
  },
  {
   "cell_type": "code",
   "execution_count": 1,
   "metadata": {},
   "outputs": [
    {
     "name": "stdout",
     "output_type": "stream",
     "text": [
      "aaaaa\n"
     ]
    }
   ],
   "source": [
    "import multiprocessing as mp\n",
    "import threading as td\n",
    "\n",
    "def job(a,d):\n",
    "    print('aaaaa')\n",
    "\n",
    "t1 = td.Thread(target=job,args=(1,2))\n",
    "p1 = mp.Process(target=job,args=(1,2))\n",
    "t1.start()\n",
    "p1.start()\n",
    "t1.join()\n",
    "p1.join()"
   ]
  },
  {
   "cell_type": "markdown",
   "metadata": {},
   "source": [
    "**<font size=5> 存储进程输出 Queue</font>**"
   ]
  },
  {
   "cell_type": "code",
   "execution_count": null,
   "metadata": {},
   "outputs": [],
   "source": [
    "import multiprocessing as mp\n",
    "\n",
    "def job(q):\n",
    "    res=0\n",
    "    for i in range(1000):\n",
    "        res+=i+i**2+i**3\n",
    "    q.put(res)    #queue\n",
    "\n",
    "if __name__=='__main__':\n",
    "    q = mp.Queue()\n",
    "    p1 = mp.Process(target=job,args=(q,))\n",
    "    p2 = mp.Process(target=job,args=(q,))\n",
    "    p1.start()\n",
    "    p2.start()\n",
    "    p1.join()\n",
    "    p2.join()\n",
    "    res1 = q.get()\n",
    "    res2 = q.get()\n",
    "    print(res1+res2)"
   ]
  },
  {
   "cell_type": "markdown",
   "metadata": {},
   "source": [
    "**<font size=5> 效率对比 threading & multiprocessing</font>**\n",
    "\n",
    "\n",
    "多进程和多线程的使用是需要明确使用场景的，多进程比较适合处理计算（CPU）密集型的任务（如上代码就是计算密集型），多线程适合处理I/O密集型的任务，它避免了多进程资源不断释放和申请（多线程共享多进程资源）。之所以莫大神normal所用时间小于multithread，因为耗时主要发生在任务切换，而真正的内部计算流程可能是和normal一样的，总之就是说multithread在normal的基础上平白多了个切换耗时。。。。。"
   ]
  },
  {
   "cell_type": "code",
   "execution_count": null,
   "metadata": {},
   "outputs": [],
   "source": [
    "import multiprocessing as mp\n",
    "import threading as td\n",
    "\n",
    "def job(q):\n",
    "    res = 0\n",
    "    for i in range(10000):\n",
    "        res += i + i**2 + i**3\n",
    "    q.put(res) # queue\n",
    "    \n",
    "#多進程--------------------------------------\n",
    "def multicore():\n",
    "    q = mp.Queue()\n",
    "    p1 = mp.Process(target=job, args=(q,))\n",
    "    p2 = mp.Process(target=job, args=(q,))\n",
    "    p1.start()\n",
    "    p2.start()\n",
    "    p1.join()\n",
    "    p2.join()\n",
    "    res1 = q.get()\n",
    "    res2 = q.get()\n",
    "    print('multicore:',res1 + res2)\n",
    "    \n",
    "#多線程--------------------------------------\n",
    "def multithread():\n",
    "    q = mp.Queue() # thread可放入process同样的queue中\n",
    "    t1 = td.Thread(target=job, args=(q,))\n",
    "    t2 = td.Thread(target=job, args=(q,))\n",
    "    t1.start()\n",
    "    t2.start()\n",
    "    t1.join()\n",
    "    t2.join()\n",
    "    res1 = q.get()\n",
    "    res2 = q.get()\n",
    "    print('multithread:', res1 + res2)\n",
    "#--------------------------------------\n",
    "    \n",
    "def normal():\n",
    "    res = 0\n",
    "    for _ in range(2):\n",
    "        for i in range(10000):\n",
    "            res += i + i**2 + i**3\n",
    "    print('normal:', res)\n",
    "#--------------------------------------\n",
    "\n",
    "import time\n",
    "\n",
    "if __name__ == '__main__':\n",
    "    st = time.time()\n",
    "    normal()\n",
    "    st1 = time.time()\n",
    "    print('normal time:', st1 - st)\n",
    "    multithread()\n",
    "    st2 = time.time()\n",
    "    print('multithread time:', st2 - st1)\n",
    "    multicore()\n",
    "    print('multicore time:', time.time() - st2)"
   ]
  }
 ],
 "metadata": {
  "kernelspec": {
   "display_name": "Python 3",
   "language": "python",
   "name": "python3"
  },
  "language_info": {
   "codemirror_mode": {
    "name": "ipython",
    "version": 3
   },
   "file_extension": ".py",
   "mimetype": "text/x-python",
   "name": "python",
   "nbconvert_exporter": "python",
   "pygments_lexer": "ipython3",
   "version": "3.7.4"
  }
 },
 "nbformat": 4,
 "nbformat_minor": 2
}
