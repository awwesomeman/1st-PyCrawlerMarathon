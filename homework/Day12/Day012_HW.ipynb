{
 "cells": [
  {
   "cell_type": "markdown",
   "metadata": {},
   "source": [
    "# Ettoday 網路爬蟲實作練習\n",
    "\n",
    "\n",
    "* 能夠利用 Request + BeatifulSour 撰寫爬蟲，並存放到合適的資料結構\n"
   ]
  },
  {
   "cell_type": "markdown",
   "metadata": {},
   "source": [
    "## 作業目標\n",
    "\n",
    "根據範例 ，完成以下問題：\n",
    "\n",
    "* ① 取出今天所有的發文\n",
    "* ② 如果想要依照類別分類，怎麼儲存會比較好？\n",
    "* ③ 哪一個類別的文章最多\n",
    "\n",
    "\n"
   ]
  },
  {
   "cell_type": "markdown",
   "metadata": {},
   "source": [
    "### ① 取出今天所有的發文"
   ]
  },
  {
   "cell_type": "code",
   "execution_count": 2,
   "metadata": {},
   "outputs": [
    {
     "data": {
      "text/plain": [
       "[<a href=\"/news/20200224/1652681.htm\" target=\"_blank\"><i class=\"icon_type_video\"></i>紅牌重機北宜公路逆向超車　小客車「同步切出」擦撞…騎士夫妻遭擊落翻滾</a>,\n",
       " <a href=\"/news/20200224/1652657.htm\" target=\"_blank\">血友病童母「跨海求藥」　律師「困境自找」4點質疑：台灣哪裡欠你了？</a>,\n",
       " <a href=\"/news/20200224/1652698.htm\" target=\"_blank\">「翹孤輪」暴衝回金門！2行人衰被掃到見血…阿兵哥撞到人傻喊：它就往前衝了</a>,\n",
       " <a href=\"/news/20200224/1652612.htm\" target=\"_blank\">義大利淪陷！歐洲疾管局：未來幾天恐有更多確診…法70醫院備戰</a>,\n",
       " <a href=\"/news/20200224/1652493.htm\" target=\"_blank\">朴素丹《寄生上流》大成功！一次手拎3個LV包展現霸氣女王風範</a>,\n",
       " <a href=\"/news/20200224/1652577.htm\" target=\"_blank\"><i class=\"icon_type_video\"></i>戲精汪趴地拖行10公尺...背影音樂太淒涼！　網落淚要捐款：帳號給我</a>,\n",
       " <a href=\"/news/20200224/1652556.htm\" target=\"_blank\">有夠衰！疫情肆虐短尾猴趴趴走　「體溫正常」也被強制隔離</a>,\n",
       " <a href=\"/news/20200224/1652659.htm\" target=\"_blank\">15分鐘到台北！他納悶「深坑常被忽略？」　網曝荒涼現狀：沒車會崩潰</a>,\n",
       " <a href=\"/news/20200224/1635048.htm\" target=\"_blank\">英國純樸宅…隱藏絕美夕陽無邊際海景！臥室廚房開窗　美景盡收眼底</a>,\n",
       " <a href=\"/news/20200224/1652648.htm\" target=\"_blank\">24歲多金男染疫！治療中「一眼鍾情」女護士…康復後直接「上鏡告白」尋人</a>,\n",
       " <a href=\"/news/20200224/1652471.htm\" target=\"_blank\">菲國220對新人「戴藍口罩親親」　出席者要填健康申報表</a>,\n",
       " <a href=\"/news/20200224/1652693.htm\" target=\"_blank\">小禎主持1299天《2分之一強》請辭！掰了老搭檔梁赫群　經紀人曝原因</a>,\n",
       " <a href=\"/news/20200224/1652688.htm\" target=\"_blank\"><i class=\"icon_type_video\"></i>吳青峰突道歉孫燕姿：利用妳了！　曝蘇打綠合體內幕「洩漏罰5百萬」</a>,\n",
       " <a href=\"/news/20200224/1652684.htm\" target=\"_blank\">北捷文湖線試辦改內裝！座椅提高包覆性、座位變多了</a>,\n",
       " <a href=\"/news/20200224/1652672.htm\" target=\"_blank\">疾管署案例圖曝光北部女位置　侯友宜「完全掌握」：全力以赴打勝仗！</a>,\n",
       " <a href=\"/news/20200224/1652685.htm\" target=\"_blank\">亞洲盃抗日關鍵戰　陳冠全為雪恥：拚了</a>,\n",
       " <a href=\"/news/20200224/1652690.htm\" target=\"_blank\">百貨庫存系統疑洩新品資訊！傳蘋果春季發表會可能亮相「4新品」</a>,\n",
       " <a href=\"/news/20200224/1652601.htm\" target=\"_blank\">動物園「北美灰狼」苦追室友7年！　今年繁殖期有望成夫妻</a>,\n",
       " <a href=\"/news/20200224/1652662.htm\" target=\"_blank\">為0.04元上法院！超商老闆控店員手機充電涉竊盜　檢座說話了　</a>,\n",
       " <a href=\"/news/20200224/1652599.htm\" target=\"_blank\">報好康！饗食天堂推平日「4人同行1人免費」　會員加碼抽饗饗、旭集餐券</a>,\n",
       " <a href=\"/news/20200224/1652491.htm\" target=\"_blank\">只為免費洗車券！她衝加油站「理論」賞員工巴掌…不怕吃官司嗆：聽妳放屁</a>,\n",
       " <a href=\"/news/20200224/1652578.htm\" target=\"_blank\">南韓29人赴以色列返國確診！接觸至少170人　不排除「旅遊期間交叉感染」</a>,\n",
       " <a href=\"/news/20200224/1652485.htm\" target=\"_blank\">是戀愛的感覺！　柴男孩路遇馬匹「確認眼神」...感覺對了秒獻初吻</a>,\n",
       " <a href=\"/news/20200224/1652664.htm\" target=\"_blank\">杏仁哥開吉了！告發「罷韓團體7人」尹立、陳冠榮違反選罷法　雄檢將分案調查</a>,\n",
       " <a href=\"/news/20200224/1652676.htm\" target=\"_blank\">寫不出「靜夜情懷」！學測國寫4395人拿鴨蛋　英文作文僅17人滿分</a>,\n",
       " <a href=\"/news/20200224/1652492.htm\" target=\"_blank\"><i class=\"icon_type_video\"></i>阿金自創「隱形門挑戰」！　爸媽全看傻：原來是養二哈？</a>,\n",
       " <a href=\"/news/20200224/1652637.htm\" target=\"_blank\">Google遭美國檢方起訴　指控非法收集學生個資...Google澄清學校有控制權</a>,\n",
       " <a href=\"/news/20200224/1652678.htm\" target=\"_blank\">派卓亞膝傷5度開刀又復發再進60天傷兵　恐結束棒球生涯</a>,\n",
       " <a href=\"/news/20200224/1652445.htm\" target=\"_blank\">不斷更新／JR東日本職員確診…發燒前持續上班　南韓仍不打算擴大入境禁令</a>,\n",
       " <a href=\"/news/20200224/1652557.htm\" target=\"_blank\">老爸「分居7年0通電話」被放生　女兒：我離家4年只碰到一次</a>,\n",
       " <a href=\"/news/20200224/1650622.htm\" target=\"_blank\">記錄老房子的美…廢墟攝影師「為藝術犧牲」　誤入民宅拍照下場慘</a>,\n",
       " <a href=\"/news/20200224/1652663.htm\" target=\"_blank\">女客人「刷手機條碼」換咖啡　超商店員曝尷尬對話：轉過去忍不住偷笑</a>,\n",
       " <a href=\"/news/20200224/1652640.htm\" target=\"_blank\"><i class=\"icon_type_video\"></i>坦圖戴「紫色護臂」致敬Kobe飆41分　詹皇讚綠軍新星：他是大麻煩</a>,\n",
       " <a href=\"/news/20200224/1652632.htm\" target=\"_blank\">「過度恐慌」會降低防疫！台大建議強化信念：常互相問候「洗手沒？」</a>,\n",
       " <a href=\"/news/20200224/1652623.htm\" target=\"_blank\">台灣不要走回頭路　傳染病統計資料必須開放</a>,\n",
       " <a href=\"/news/20200224/1652513.htm\" target=\"_blank\">「粉紅椋鳥」日捉煌蟲180隻　新疆草原搭鳥巢保育</a>,\n",
       " <a href=\"/news/20200224/1652633.htm\" target=\"_blank\">桃園航空城撥雲見日　大園素地交易量年增逾6成</a>,\n",
       " <a href=\"/news/20200224/1652673.htm\" target=\"_blank\">中職／統一獅會員卡10大好康！25日開放網路申辦</a>,\n",
       " <a href=\"/news/20200224/1652669.htm\" target=\"_blank\">台灣民意基金會／陳時中防疫表現：50.5％給90分以上　平均獲84.16分</a>,\n",
       " <a href=\"/news/20200224/1652586.htm\" target=\"_blank\">花蓮房市靠蘇花改翻身？　房仲僅看好「短期」利多</a>,\n",
       " <a href=\"/news/20200224/1652666.htm\" target=\"_blank\"><i class=\"icon_type_video\"></i>又傳婚變！親戚私聊「A-Lin、黃甘霖早離婚」　連3場演唱會老公都神隱</a>,\n",
       " <a href=\"/news/20200224/1652629.htm\" target=\"_blank\">南韓最小患者「16個月大女嬰」…父母帶她參加婚禮　大媽也在場</a>,\n",
       " <a href=\"/news/20200224/1652607.htm\" target=\"_blank\">急診病患躺地大鬧…2保全「樓梯間痛毆」！他滿臉血癱軟　被丟包吸菸亭慘死</a>,\n",
       " <a href=\"/news/20200224/1652524.htm\" target=\"_blank\">藥局0排隊！士林哥順路買2個「是神明口罩」超意外　網羨慕炸：有戴有保佑</a>,\n",
       " <a href=\"/news/20200224/1651329.htm\" target=\"_blank\">包・開箱／孫藝珍《愛的迫降》CELINE包登熱搜　細節曝光容量超驚人</a>,\n",
       " <a href=\"/news/20200224/1652665.htm\" target=\"_blank\">看完《寄生上流》　26歲攝影師點薰香除「金家人味道」</a>,\n",
       " <a href=\"/news/20200224/1652661.htm\" target=\"_blank\">新冠病毒衝擊全球防線　環球時報：一些國家防控行動有點慢</a>,\n",
       " <a href=\"/news/20200224/1652642.htm\" target=\"_blank\">余文樂鄰居親友轉手打95折　專家曝有錢人算盤打得精</a>,\n",
       " <a href=\"/news/20200224/1652575.htm\" target=\"_blank\">「醫事人員」出國禁令！　衛福部：這7國以外都沒有限制</a>,\n",
       " <a href=\"/news/20200224/1652579.htm\" target=\"_blank\"><i class=\"icon_type_video\"></i>白文鳥一出籠飛到媽掌心「拍翅瞇眼」　30秒後誕下「剔透明珠」</a>,\n",
       " <a href=\"/news/20200224/1652474.htm\" target=\"_blank\">家中挖出整盒醫用口罩！翻過來見「一串數字」臉垮掉…醫師曝3關鍵：還能用</a>,\n",
       " <a href=\"/news/20200224/1650433.htm\" target=\"_blank\">《RUN新聞》小鬼、熊熊重現《愛的迫降》高甜劇情！逃脫到瑞士計畫大挑戰</a>,\n",
       " <a href=\"/news/20200224/1648142.htm\" target=\"_blank\">總統套房內喝咖啡！高雄圓山賞湖秘境　珍珠奶茶蛋糕超邪惡</a>,\n",
       " <a href=\"/news/20200224/1652521.htm\" target=\"_blank\">母象受困泥沼　目睹象寶寶慘被鬣狗分食...心碎脫水而死</a>,\n",
       " <a href=\"/news/20200224/1652619.htm\" target=\"_blank\">2021台灣燈會在新竹！ 未來感「城市型燈會」還有表演秀、遊行</a>,\n",
       " <a href=\"/news/20200224/1652608.htm\" target=\"_blank\">苦苓／武漢病毒是從武漢來的嗎？</a>,\n",
       " <a href=\"/news/20200224/1652656.htm\" target=\"_blank\">打敗台大！全國自然組最熱門科系出爐　中央資工、電機系拿下1、2名</a>,\n",
       " <a href=\"/news/20200224/1652376.htm\" target=\"_blank\"><i class=\"icon_type_video\"></i>貓咪為什麼會弄破紙門？　貓奴犧牲自家錄下紙門臨死前慘痛影片</a>,\n",
       " <a href=\"/news/20200224/1652653.htm\" target=\"_blank\">快訊／滯留在武漢外地人可出城了！　放行條件出爐「即日生效」</a>,\n",
       " <a href=\"/news/20200224/1652467.htm\" target=\"_blank\">大邱防疫官員證實為新天地教徒！確診感染才坦承…衛生所同事全回家隔離</a>,\n",
       " <a href=\"/news/20200224/1652616.htm\" target=\"_blank\">台灣新冠肺炎確診28例　「個案身分＆關係」懶人包一圖看懂！</a>,\n",
       " <a href=\"/news/20200224/1652349.htm\" target=\"_blank\">機場「療癒大隊」有22汪1豬　不是抓違禁品…是來逗你笑的</a>,\n",
       " <a href=\"/news/20200224/1652647.htm\" target=\"_blank\">快訊／伊朗、義大利旅遊警示升級！美國疾管局：需做額外防護措施</a>,\n",
       " <a href=\"/news/20200224/1652649.htm\" target=\"_blank\">大陸兩會確定延期　「關鍵表決今日出爐」</a>,\n",
       " <a href=\"/news/20200224/1652651.htm\" target=\"_blank\">台灣民意基金會／蘇貞昌施政滿意度69.4%　創下24年最高紀錄</a>,\n",
       " <a href=\"/news/20200224/1652650.htm\" target=\"_blank\">驚罹怪病！名嘴凌晨PO文「治不了了」求救　爆痛崩潰：人生再這樣只有死路一條</a>,\n",
       " <a href=\"/news/20200224/1652479.htm\" target=\"_blank\">收容所待1年！米克斯怕人出籠邊走挫賽　收編成機關犬立大功</a>,\n",
       " <a href=\"/news/20200224/1652538.htm\" target=\"_blank\">歐告翹臀癱花圃「謎樣神情」嚇歪鄰居　媽揭真相網眼淚秒乾</a>,\n",
       " <a href=\"/news/20200224/1652636.htm\" target=\"_blank\">疫情肆虐企業面臨違約風險　專家：趕快採取5步驟</a>,\n",
       " <a href=\"/news/20200224/1652534.htm\" target=\"_blank\">網友抓包大陸「一線護士和出院病人」是同一人？　當事人現身回應了</a>,\n",
       " <a href=\"/news/20200224/1652645.htm\" target=\"_blank\">新冠肺炎疫情恐衝擊「大學二階甄選」　招聯會：若不得已將採視訊面試</a>,\n",
       " <a href=\"/news/20200224/1652646.htm\" target=\"_blank\">比照SARS期間「官兵全面停休」？　國防部回應了</a>,\n",
       " <a href=\"/news/20200224/1652622.htm\" target=\"_blank\">宜蘭轎車闖紅燈撞機車...騎士不治代誌大條！駕駛找友頂罪穿幫了</a>,\n",
       " <a href=\"/news/20200224/1652634.htm\" target=\"_blank\">唐斯、羅素雙缺　約基奇聯手米爾塞普送灰狼4連敗</a>,\n",
       " <a href=\"/news/20200224/1652627.htm\" target=\"_blank\">防疫、救經濟兩頭燒　陸發改委：將推針對性減稅降費措施</a>,\n",
       " <a href=\"/news/20200224/1652643.htm\" target=\"_blank\">邦格納化名參加牛仔比賽被抓包　奪冠抱回最高額獎金</a>,\n",
       " <a href=\"/news/20200224/1652635.htm\" target=\"_blank\">中華拔河隊超強！郭昇復出指導　世界盃室內賽奪5金1銀</a>,\n",
       " <a href=\"/news/20200224/1652639.htm\" target=\"_blank\"><i class=\"icon_type_video\"></i>醫事人員禁出國引反彈　柯文哲建議個案處理：去北歐都不會感染</a>,\n",
       " <a href=\"/news/20200224/1652487.htm\" target=\"_blank\"><i class=\"icon_type_video\"></i>獨／遇到「金牌ㄟ」所長也沒轍　高雄男被警追捕「剉屎」當街脫褲</a>,\n",
       " <a href=\"/news/20200224/1652631.htm\" target=\"_blank\">台中市高中以下36萬學生明開學　盧秀燕：國小生前3周都會有口罩</a>,\n",
       " <a href=\"/news/20200224/1652561.htm\" target=\"_blank\">蘋果CEO庫克遭跟蹤騷擾　美國法院下禁令要求嫌犯遠離</a>,\n",
       " <a href=\"/news/20200224/1652595.htm\" target=\"_blank\">家屬接到醫院電話哭：求求你別告訴我不好消息　護理師聽完哽咽呆站2分鐘</a>,\n",
       " <a href=\"/news/20200224/1652466.htm\" target=\"_blank\">學測數學滿級分人數激增創新高...招聯會提「分科篩選」減衝擊</a>,\n",
       " <a href=\"/news/20200224/1652628.htm\" target=\"_blank\">防疫酒精on the way！台糖：本周日產能可望翻倍成長「上看3萬瓶」</a>,\n",
       " <a href=\"/news/20200224/1652604.htm\" target=\"_blank\">禁醫事人員出國！醫勞盟籲「停航二級以上疫區國」：全體國人一同抗疫</a>,\n",
       " <a href=\"/news/20200224/1652539.htm\" target=\"_blank\">蘋果禁書熱賣！　德國App Store離職經理新書擠入亞馬遜熱銷榜</a>,\n",
       " <a href=\"/news/20200224/1652625.htm\" target=\"_blank\">華為新機發布在即　Google警告用戶勿自行安裝GMS</a>,\n",
       " <a href=\"/news/20200224/1652598.htm\" target=\"_blank\">一張罰單50萬！公路總局全台嚴抓白牌車　4天取締17輛重罰850萬</a>,\n",
       " <a href=\"/news/20200224/1652621.htm\" target=\"_blank\"><i class=\"icon_type_video\"></i>賈靜雯PO「梧桐妹無碼正面」母女同框照！　牽咘咘玩日月潭…陶晶瑩一家同行全被拍</a>,\n",
       " <a href=\"/news/20200224/1652605.htm\" target=\"_blank\">物流也嚴選！東森購物首屆績優站所服務獎　新竹物流包辦前3</a>,\n",
       " <a href=\"/news/20200224/1652610.htm\" target=\"_blank\"><i class=\"icon_type_video\"></i>中央公布病例地圖轉彎？　柯文哲「北部女不在北市」：我們現在要「順時中」</a>,\n",
       " <a href=\"/news/20200224/1652536.htm\" target=\"_blank\">出門慶生華裔友被笑「有新冠病毒」　她代出頭慘被揍到腦震盪</a>,\n",
       " <a href=\"/news/20200224/1652498.htm\" target=\"_blank\">疫情恐在全球大流行？　德教授：用盡資源也無法阻止擴散</a>,\n",
       " <a href=\"/news/20200224/1652558.htm\" target=\"_blank\">侯佩岑拎卡地亞小紅包被指像喜餅　正解是經典珠寶盒</a>,\n",
       " <a href=\"/news/20200224/1652537.htm\" target=\"_blank\"><i class=\"icon_type_video\"></i>影／大甲媽遶境「信徒共食+同車同住」...網急喊母湯　內行曝2情景更驚悚！</a>,\n",
       " <a href=\"/news/20200224/1652405.htm\" target=\"_blank\"><i class=\"icon_type_video\"></i>對圓眼萌貓比「沒品手勢」遭無視！　牠下秒「失控舉動」媽手機飛</a>,\n",
       " <a href=\"/news/20200224/1652592.htm\" target=\"_blank\"><i class=\"icon_type_video\"></i>影／陳時中買房背債5657萬元　「存款不到300萬」投資小牙醫診所</a>,\n",
       " <a href=\"/news/20200224/1652475.htm\" target=\"_blank\">2年來第4架！印度海軍米格-29K戰鬥機「技術性故障」墜毀</a>,\n",
       " <a href=\"/news/20200224/1652617.htm\" target=\"_blank\">落「食」防疫   營養師您吃出免疫力</a>,\n",
       " <a href=\"/news/20200224/1652516.htm\" target=\"_blank\">情侶不能接吻！留學生觀察韓國人「3個不戴口罩原因」　揭當地人4日常聚集地</a>]"
      ]
     },
     "execution_count": 2,
     "metadata": {},
     "output_type": "execute_result"
    }
   ],
   "source": [
    "import requests\n",
    "from bs4 import BeautifulSoup\n",
    "\n",
    "url = 'https://www.ettoday.net/news/news-list.htm'\n",
    "r = requests.get(url)\n",
    "\n",
    "soup = BeautifulSoup(r.text, \"lxml\")\n",
    "soup.find('div', class_=\"part_list_2\").find_all('a')"
   ]
  },
  {
   "cell_type": "code",
   "execution_count": 1,
   "metadata": {},
   "outputs": [],
   "source": [
    "import requests\n",
    "from bs4 import BeautifulSoup\n",
    "\n",
    "url = 'https://www.ettoday.net/news/news-list.htm'\n",
    "r = requests.get(url)\n",
    "\n",
    "soup = BeautifulSoup(r.text, \"html5lib\")"
   ]
  },
  {
   "cell_type": "code",
   "execution_count": null,
   "metadata": {
    "scrolled": true
   },
   "outputs": [],
   "source": [
    "#打印出 title\n",
    "for title in soup.find('div', class_=\"part_list_2\").find_all('a'):\n",
    "    print(title.text)"
   ]
  },
  {
   "cell_type": "code",
   "execution_count": 2,
   "metadata": {
    "collapsed": true
   },
   "outputs": [
    {
     "name": "stdout",
     "output_type": "stream",
     "text": [
      "2019/12/12 17:17 店裡逮到賊客！收到判決書「遭給1星評價」　店員一查傻眼：小偷男留的\n",
      "2019/12/12 17:16 八三夭泰國飆唱夯歌...全場「甩頭+衝撞」陷入瘋狂！\n",
      "2019/12/12 17:16 大專棒聯／林家恩完封、陳政達3分砲　稻江送高雄大學下去打二級\n",
      "2019/12/12 17:16 蔡燦得凍齡演房思瑜的媽　怒轟導演「你騙我！」\n",
      "2019/12/12 17:15 移民勇爬2樓火場濃煙中「扛出受困殘疾男」！西班牙政府考慮授予居留權\n",
      "2019/12/12 17:15 幫忙帶小孩其實是戀童變態！　地方媽對親生兒下手還性侵3姪子\n",
      "2019/12/12 17:15 見下班滿滿人潮...北捷色狼貼近翹臀妹！「手指偷摸下半身」想落跑下場慘\n",
      "2019/12/12 17:14 三重通訊行藏賭場！娃娃機店當出入口　21警衝入抓25賭客扣33萬賭資\n",
      "2019/12/12 17:13 遠航工作區明斷水電拉封條…同仁忙清空　老機長嘆：有點難過\n",
      "2019/12/12 17:12 圓圓辣洩「激挺北半球」...上交友軟體曝喜訊：怕被誤認詐騙！\n",
      "2019/12/12 17:12 5G競標第三天總標金突破300億元！業者估需13日才可能超過500億\n",
      "2019/12/12 17:10 直擊／亨利卡維爾「胸肌炸裂」西裝扣撐爆！　主持人問「你哪裡是軟的？」全場笑翻\n",
      "2019/12/12 17:08 迎接新年號！日本公布2019年度漢字「令」　榜單驚見傑尼斯男團\n",
      "2019/12/12 17:06 陳勢安尾牙狂接30場...樂當「空中飛人」！偷閒赴美踩雪度聖誕\n",
      "2019/12/12 17:06 山下智久朝聖ARASHI演唱會！　「超嗨舉動」踩演唱會禁忌\n",
      "2019/12/12 17:05 貝克漢走出舒適圈其實怕怕的　挑戰高山越野滑雪回到18歲\n",
      "2019/12/12 17:04 遠航董座張綱維留下遺書：只求一死以謝罪\n",
      "2019/12/12 17:03 快訊／北市廢棄物處理廠意外！男疑遭「拖車車斗重壓」...頭部重創命危\n",
      "2019/12/12 17:03 基努李維《駭客任務4》上映日期曝光！跟《捍衛任務4》同一天\n",
      "2019/12/12 17:02 台灣燈會主展區規劃「好神宗教燈區」　齊聚眾神護台灣\n",
      "2019/12/12 17:02 快訊／民航局協調不出班機　韓國瑜金門行程全泡湯\n",
      "2019/12/12 17:00 快訊／遠航張綱維傳遺書「只求以死謝罪」　目前未有出境紀錄\n",
      "2019/12/12 17:00 每一口都是料！台中最潮蒜味鹹魚炒飯　還有泰式打拋豬口味\n",
      "2019/12/12 16:58 影／7歲童鑽娃娃機洞「想偷布偶」…下秒卡住嚇壞急呼救！網笑翻：果然夾娃娃\n",
      "2019/12/12 16:57 3年交5女友「愛愛太快慘遭分手」　醫師安慰：有人隔著褲子被摸就...\n",
      "2019/12/12 16:56 「我不是宇宙最強」　甄子丹談12歲兒洩平凡：一輩子的課題\n",
      "2019/12/12 16:56 韓籍女同志伴侶加拿大登記結婚　韓航視為「家人」同意合併里程\n",
      "2019/12/12 16:55 遠航62年來3度易主！隔4年再度宣布停飛　張綱維持續失聯中\n",
      "2019/12/12 16:54 助高雄發展！內政部：橋頭科學園區110年底可選地設廠\n",
      "2019/12/12 16:54  高雄樺舍商旅傳年底歇業　櫃檯員工稱不知情\n",
      "2019/12/12 16:52 談「賭盤」遭綠委批包庇犯罪　張善政辦公室：執政黨掌資源最應主動調查\n",
      "2019/12/12 16:51 國民黨台南後壁區黨部疑似爆裂物　鴨舌帽男清晨5點多放的\n",
      "2019/12/12 16:51 陸媒：中央經濟工作會議本周已召開　2020年「寬貨幣、緊信用、鬆財政」\n",
      "2019/12/12 16:51 回應「中國威脅論」　華春瑩：貓熊塊頭大但會比禿鷹危險？\n",
      "2019/12/12 16:51 共諜案再曝6合夥人　澳智庫報告：向心與中國首位女中將有關係\n",
      "2019/12/12 16:50 遠航停飛所有員工突失業！內部公告流出：最後在職日是12月13日\n",
      "2019/12/12 16:49 胖死也甘願！韓國8大必吃烤肉　超狂吃到飽5百有找、爽喝大醬湯\n",
      "2019/12/12 16:47 雷納德告白「依舊愛著多倫多」　領冠軍戒假掉淚？羅瑞：是真的\n",
      "2019/12/12 16:46 Cosplay解放嫩腿！　咪妃「真實身材」被鏡子出賣…網嚇傻：小腿肌好壯\n",
      "2019/12/12 16:45 桌球年終賽／林昀儒、廖振珽男雙進4強　莊智淵搭陳建安不敵大陸\n",
      "2019/12/12 16:45 斷氣17hrs才送醫！6歲童遭「水刑」溺暈　襯衫綁門上等死\n",
      "2019/12/12 16:44 半年沒聯絡...前女友約聊天：想做一件事！在他面前「淋汽油自焚」慘成焦屍\n",
      "2019/12/12 16:43 越南足球東南亞運動會奪首冠　朴恒緒再當國民英雄\n",
      "2019/12/12 16:43 遠航無預警停業　董座張綱維「三周沒露面」恐面臨三年以下有期徒刑\n",
      "2019/12/12 16:43 俄羅斯唯一航母「庫茲涅佐夫號」維修起火3傷1失蹤　濃煙猛竄畫面曝光\n",
      "2019/12/12 16:42 以為養貓不用「被拖著跑」　牠散步卻暴衝剩殘影...媽喘氣：我跟不上\n",
      "2019/12/12 16:42 「為搶200元」拿酒瓶砸女！　石材美容師遭重判7年6月\n",
      "2019/12/12 16:41 遠航停業⋯副總哽咽致歉　民航局將開罰300萬元、負責人最重可關3年\n",
      "2019/12/12 16:40 宋楚瑜「終局之搭」…閃過遠航停飛　澎湖返台搭華信\n",
      "2019/12/12 16:38 快訊／南山代理董座尹崇堯人事案駁回　金管會要求重找新人選\n",
      "2019/12/12 16:37 宜蘭鴨產業食農教育扎根　首站選定三星國小\n",
      "2019/12/12 16:37 宜蘭黃金醃蘿蔔初體驗　蘇澳鎮長林明哲邀您品嘗頂寮蘿蔔好滋味！\n",
      "2019/12/12 16:36 「泥巴叔叔」每看必哭！朱宗慶打擊樂團歲末壓軸　苗栗巡演最終站\n",
      "2019/12/12 16:36 快訊／無預警停業！遠航高層鞠躬致歉：早上就聯繫不到張綱維\n",
      "2019/12/12 16:36 羽球年終賽／戴資穎逆轉退依瑟儂　首勝開張挺進4強還有機會\n",
      "2019/12/12 16:34 張善政稱蔡韓賭盤已呈PK盤　民進黨團轟：包庇犯罪救選情\n",
      "2019/12/12 16:33 YouTube再修社群規範　遏止平台騷擾行為、違者最重被終止頻道\n",
      "2019/12/12 16:32 大專棒聯／中信8上失誤奉送4分　大同6比2退中信率先逃過降級\n",
      "2019/12/12 16:31 國內首家「文化科技種子基金」成立　施振榮再披戰袍任「科文双融」董事長\n",
      "2019/12/12 16:30 王思佳穿韓服被說「像黑山老妖」　玩遊戲變箭靶...氣哭：我不玩了！\n",
      "2019/12/12 16:30 台日聯手緝獲漁船運安毒600公斤　破日方一次性查獲最多安毒數量紀錄\n",
      "2019/12/12 16:30 打開監視器見「狗睡滿茶几」全家笑噴　回家發現有隱情\n",
      "2019/12/12 16:29 新台幣走強！收盤升值近1角　收30.406元兌1美元\n",
      "2019/12/12 16:28 遠航二度易主！前老董崔湧曾「掏空23億」　棄保9000萬潛逃在美自殺亡\n",
      "2019/12/12 16:25 遠航「機齡不得超過26年」緊箍咒纏身　明年只剩ATR-72生財工具壓垮營運\n",
      "2019/12/12 16:25 陳其邁親筆信曝光！給台灣：民主與進步是我們對妳的承諾\n",
      "2019/12/12 16:25 《路透》：習近平下週將訪澳門　宣佈多項支持發展金融措施\n",
      "2019/12/12 16:25 錢世傑／新世代「小資族」的生存法則\n",
      "2019/12/12 16:25 動物園管理員餵獅子遭緊咬40秒　員工圍觀卻無人相救\n",
      "2019/12/12 16:25 歐告將玩具扔下樓...媽厚臉皮丟紙條求援！　暖鄰居洗淨貼心送回\n",
      "2019/12/12 16:24 羽球年終賽／周天成三局逆轉安賽龍　小組中唯一先搶下2連勝\n",
      "2019/12/12 16:24 Live／遠航無預警宣布12/13停業　民航局召開記者會說明\n",
      "2019/12/12 16:22 快訊／前晚與家人吵架...苗栗男摩鐵縱火「躲浴缸泡水」！警消急爬2樓救人\n",
      "2019/12/12 16:21 華聞快遞／長沙以工程機械擴大世界「朋友圈」　佈設全球推介會路線圖\n",
      "2019/12/12 16:18 「不負責任！」合庫怒斥遠航　放貸22億元急尋張綱維出面說明\n",
      "2019/12/12 16:18 排便蹲得好！　男滑一跤左腳插入馬桶「黑洞」\n",
      "2019/12/12 16:17 早上剛訂票...下午就停飛！他參加活動拿遠航250元折價券卻不能用　氣炸：有夠傻眼\n",
      "2019/12/12 16:16 「愛情摩天輪」設計圖曝光！進度停擺交通部　高市府怨：卡韓\n",
      "2019/12/12 16:16 球員名單6成寫錯　網友發現記者是正妹：錯字不重要！\n",
      "2019/12/12 16:16 狗狗「咬咬大刑」好頭痛！他列4狀況　正確相處「手不痛」\n",
      "2019/12/12 16:15 小三說？　張善政：那是周玉蔻說的！真是天方夜譚\n",
      "2019/12/12 16:14 【廣編】臺銀人壽推廣微型、小額終老及投資新創　深獲金管會肯定\n",
      "2019/12/12 16:13 遠航停業苦主現身！合作業者嘆「108張機票成壁紙」：被倒了20萬元\n",
      "2019/12/12 16:13 太珍貴了！「手工畫」看板在蔡英文台南競總　國寶職人顏振發一筆筆繪出\n",
      "2019/12/12 16:13 正妹記者寫錯15球員姓名！被肉搜出「雪白長腿+長輩」照...網：原諒她了\n",
      "2019/12/12 16:13 韓國瑜成遠航停飛受災戶　13日飛金門班機被卡到\n",
      "2019/12/12 16:12 只驗出紅色7號！「可口圓」少加1色素　標示不實最高可罰400萬\n",
      "2019/12/12 16:11 女助教變淫亂藥頭！　帶15歲男學生在泳池「3P」一起開趴\n",
      "2019/12/12 16:11 被說沒愛心！「紅鈴當服務鈴」吐辛酸　家屬0同理心…護理師：我不是看護\n",
      "2019/12/12 16:10 國民黨後壁黨部疑遭放爆裂物！「2大瓶不明液體」接電線...封鎖現場調查中\n",
      "2019/12/12 16:09 陳意涵感冒...老公貼心哄睡　許富翔超暖舉動網讚：爸爸型男友！\n",
      "2019/12/12 16:09 網友建議推出Switch版App　時隔2年Spotify正式回應：沒這計畫\n",
      "2019/12/12 16:09 賴清德為張銘祐四度站台　 批羅明才「只考慮到自己的未來」\n",
      "2019/12/12 16:08 才認識1天！最強「貓小三」霸佔男友　牠瞇眼擺「勝利微笑」示威\n",
      "2019/12/12 16:06 走私安非他命600公斤！台日合作破跨國運毒集團　九州海域攔船逮4嫌\n",
      "2019/12/12 16:05 韓職英雄隊明年2月到高雄春訓　朴炳鎬、李政厚將來台\n",
      "2019/12/12 16:05 福斯「巨無霸休旅」Altas又變大了　 新年式車型預告曝光！\n",
      "2019/12/12 16:03 韓國瑜張嘉郡聯合競選總部成立　韓國瑜：手臂彎內不彎出\n",
      "2019/12/12 16:03 「10%服務費妳出」相親哥討錢：餐廳妳挑的　她真的給了…結局療癒炸\n",
      "2019/12/12 16:03 黛妃「天鵝絨禮服」1054萬賣出　曾穿它和好萊塢影星共舞\n"
     ]
    }
   ],
   "source": [
    "#打印time與title\n",
    "for d in soup.find(class_=\"part_list_2\").find_all('h3'):\n",
    "    print(d.find(class_=\"date\").text, d.find_all('a')[0].text)"
   ]
  },
  {
   "cell_type": "markdown",
   "metadata": {},
   "source": [
    "### ② 如果想要依照類別分類，怎麼儲存會比較好？"
   ]
  },
  {
   "cell_type": "markdown",
   "metadata": {},
   "source": [
    "https://blog.csdn.net/u014755493/article/details/69400292 str list轉換\n",
    "\n",
    "https://blog.csdn.net/roytao2/article/details/53433373 str list轉換\n",
    "\n",
    "https://dotblogs.com.tw/johnny/archive/2010/03/02/13855.aspx  正則"
   ]
  },
  {
   "cell_type": "code",
   "execution_count": 8,
   "metadata": {},
   "outputs": [
    {
     "name": "stdout",
     "output_type": "stream",
     "text": [
      "生活,影劇,體育,影劇,國際,國際,社會,社會,生活,影劇,財經,影劇,國際,影劇,影劇,時尚,財經,社會,影劇,地方,政治,生活,旅遊,大陸,健康,影劇,國際,生活,政治,旅遊,政治,社會,大陸,大陸,國際,生活,旅遊,體育,影劇,體育,國際,社會,體育,財經,軍武,寵物動物,社會,生活,政治,保險,地方,地方,生活,生活,體育,政治,3C家電,體育,財經,影劇,社會,寵物動物,財經,生活,財經,政治,大陸,論壇,寵物動物,寵物動物,體育,生活,社會,大陸,財經,新奇,生活,政治,大陸,寵物動物,政治,財經,生活,政治,大陸,政治,健康,國際,生活,社會,影劇,3C家電,政治,寵物動物,社會,體育,ET車雲,政治,生活,國際,"
     ]
    }
   ],
   "source": [
    "#檢查各title類別 (由原始碼中可觀察出)\n",
    "for sort in soup.find(class_=\"part_list_2\").find_all('h3'):\n",
    "    print (sort.find('em').text, end = \",\")"
   ]
  },
  {
   "cell_type": "code",
   "execution_count": 160,
   "metadata": {
    "scrolled": true
   },
   "outputs": [
    {
     "name": "stdout",
     "output_type": "stream",
     "text": [
      "['生活', '影劇', '體育', '國際', '社會', '財經', '時尚', '地方', '政治', '旅遊', '大陸', '健康', '軍武', '寵物動物', '保險', '3C家電', '論壇', '新奇', 'ET車雲'] \n",
      "\n",
      "類別數 19\n"
     ]
    }
   ],
   "source": [
    "#title類別個數\n",
    "sort_list = []\n",
    "for sort in soup.find(class_=\"part_list_2\").find_all('h3'):\n",
    "    sort_list.append(sort.find('em').text)\n",
    "#先轉為set，篩選唯一值 (也可以轉成series再做處理)\n",
    "uniq_list = list(set(sort_list))\n",
    "uniq_list.sort(key=sort_list.index)\n",
    "print(uniq_list,'\\n')\n",
    "print('類別數', len(uniq_list))"
   ]
  },
  {
   "cell_type": "code",
   "execution_count": 140,
   "metadata": {},
   "outputs": [
    {
     "data": {
      "text/plain": [
       "['tag', 'c_lifestyle']"
      ]
     },
     "execution_count": 140,
     "metadata": {},
     "output_type": "execute_result"
    }
   ],
   "source": [
    "#取出 tag em 中 class屬性名稱\n",
    "soup.find(class_=\"part_list_2\").find_all('h3')[0].em['class']"
   ]
  },
  {
   "cell_type": "code",
   "execution_count": 159,
   "metadata": {},
   "outputs": [
    {
     "name": "stdout",
     "output_type": "stream",
     "text": [
      "['c_lifestyle', 'c_star', 'c_sport', 'c_global', 'c_society', 'c_finance', 'c_fashion', 'c_local', 'c_news', 'c_travel', 'c_china', 'c_health', 'c_army', 'c_pet', 'c_insurance', 'c_teck3c', 'c_commentary', 'c_novelty', 'c_speed']\n"
     ]
    }
   ],
   "source": [
    "class_name = [i.em['class'] for i in soup.find(class_=\"part_list_2\").find_all('h3')]\n",
    "class_name2 = list(set([i[1] for i in class_name]))\n",
    "class_name2.sort(key=[i[1] for i in class_name].index)\n",
    "print(class_name2)"
   ]
  },
  {
   "cell_type": "code",
   "execution_count": 128,
   "metadata": {},
   "outputs": [
    {
     "name": "stdout",
     "output_type": "stream",
     "text": [
      "1 two three 4\n",
      "1 two three 4\n",
      "1 two three 4\n"
     ]
    }
   ],
   "source": [
    "# list轉string小練習\n",
    "list11=[1,'two','three',4]\n",
    "#print(' '.join(list11)) 會報錯\n",
    "print(\" \".join('%s' %id for id in list11))\n",
    "print(\" \".join([f\"{id}\" for id in list11]))\n",
    "print(\" \".join(f\"{id}\" for id in list11))"
   ]
  },
  {
   "cell_type": "code",
   "execution_count": 62,
   "metadata": {},
   "outputs": [
    {
     "name": "stdout",
     "output_type": "stream",
     "text": [
      "<class 'bs4.element.Tag'> \n",
      "\n",
      "<h3><span class=\"date\">2019/12/12 17:17</span><em class=\"tag c_lifestyle\">生活</em><a href=\"/news/20191212/1600589.htm\" target=\"_blank\">店裡逮到賊客！收到判決書「遭給1星評價」　店員一查傻眼：小偷男留的</a></h3>\n"
     ]
    }
   ],
   "source": [
    "data = soup.find('div', class_=\"part_list_2\").find_all('h3')\n",
    "print(type(data[0]),'\\n')\n",
    "print(data[0])"
   ]
  },
  {
   "cell_type": "code",
   "execution_count": 75,
   "metadata": {},
   "outputs": [
    {
     "name": "stdout",
     "output_type": "stream",
     "text": [
      "<h3><span class=\"date\">2019/12/12 17:17</span><em class=\"tag c_lifestyle\">生活</em><a href=\"/news/20191212/1600589.htm\" target=\"_blank\">店裡逮到賊客！收到判決書「遭給1星評價」　店員一查傻眼：小偷男留的</a></h3><h3><span class=\"date\">2019/12/12 17:16</span><em class=\"tag c_star\">影劇</em><a href=\"/news/20191212/1600671.htm\" target=\"_blank\"><i class=\"icon_type_video\"></i>八三夭泰國飆唱夯歌...全場「甩頭+衝撞」陷入瘋狂！</a></h3><h3><span class=\"date\">2019/12/12 17:16</span><em class=\"tag c_sport\">體育</em><a href=\"/news/20191212/1600669.htm\" target=\"_blank\">大專棒聯／林家恩完封、陳政達3分砲　稻江送高雄大學下去打二級</a></h3><h3><span class=\"date\">2019/12/12 17:16</span><em class=\"tag c_star\">影劇</em><a href=\"/news/20191212/1600652.htm\" target=\"_blank\">蔡燦得凍齡演房思瑜的媽　怒轟導演「你騙我！」</a></h3><h3><span class=\"date\">2019/12/12 17:15</span><em class=\"tag c_global\">國際</em><a href=\"/news/20191212/1600452.htm\" target=\"_blank\">移民勇爬2樓火場濃煙中「扛出受困殘疾男」！西班牙政府考慮授予居留權</a></h3><h3><span class=\"date\">2019/12/12 17:15</span><em class=\"tag c_global\">國際</em><a href=\"/news/20191212/1600208.htm\" target=\"_blank\">幫忙帶小孩其實是戀童變態！　地方媽對親生兒下手還性侵3姪子</a></h3><h3><span class=\"date\">2019/12/12 17:15</span><em class=\"tag c_society\">社會</em><a href=\"/news/20191212/1598567.htm\" target=\"_blank\">見下班滿滿人潮...北捷色狼貼近翹臀妹！「手指偷摸下半身」想落跑下場慘</a></h3><h3><span class=\"date\">2019/12/12 17:14</span><em class=\"tag c_society\">社會</em><a href=\"/news/20191212/1600620.htm\" target=\"_blank\"><i class=\"icon_type_video\"></i>三重通訊行藏賭場！娃娃機店當出入口　21警衝入抓25賭客扣33萬賭資</a></h3><h3><span class=\"date\">2019/12/12 17:13</span><em class=\"tag c_lifestyle\">生活</em><a href=\"/news/20191212/1600660.htm\" target=\"_blank\">遠航工作區明斷水電拉封條…同仁忙清空　老機長嘆：有點難過</a></h3><h3><span class=\"date\">2019/12/12 17:12</span><em class=\"tag c_star\">影劇</em><a href=\"/news/20191212/1600664.htm\" target=\"_blank\"><i class=\"icon_type_video\"></i>圓圓辣洩「激挺北半球」...上交友軟體曝喜訊：怕被誤認詐騙！</a></h3><h3><span class=\"date\">2019/12/12 17:12</span><em class=\"tag c_finance\">財經</em><a href=\"/news/20191212/1600659.htm\" target=\"_blank\">5G競標第三天總標金突破300億元！業者估需13日才可能超過500億</a></h3><h3><span class=\"date\">2019/12/12 17:10</span><em class=\"tag c_star\">影劇</em><a href=\"/news/20191212/1600657.htm\" target=\"_blank\">直擊／亨利卡維爾「胸肌炸裂」西裝扣撐爆！　主持人問「你哪裡是軟的？」全場笑翻</a></h3><h3><span class=\"date\">2019/12/12 17:08</span><em class=\"tag c_global\">國際</em><a href=\"/news/20191212/1600459.htm\" target=\"_blank\">迎接新年號！日本公布2019年度漢字「令」　榜單驚見傑尼斯男團</a></h3><h3><span class=\"date\">2019/12/12 17:06</span><em class=\"tag c_star\">影劇</em><a href=\"/news/20191212/1600658.htm\" target=\"_blank\"><i class=\"icon_type_video\"></i>陳勢安尾牙狂接30場...樂當「空中飛人」！偷閒赴美踩雪度聖誕</a></h3><h3><span class=\"date\">2019/12/12 17:06</span><em class=\"tag c_star\">影劇</em><a href=\"/news/20191212/1600642.htm\" target=\"_blank\"><i class=\"icon_type_video\"></i>山下智久朝聖ARASHI演唱會！　「超嗨舉動」踩演唱會禁忌</a></h3><h3><span class=\"date\">2019/12/12 17:05</span><em class=\"tag c_fashion\">時尚</em><a href=\"/news/20191212/1599991.htm\" target=\"_blank\"><i class=\"icon_type_video\"></i>貝克漢走出舒適圈其實怕怕的　挑戰高山越野滑雪回到18歲</a></h3><h3><span class=\"date\">2019/12/12 17:04</span><em class=\"tag c_finance\">財經</em><a href=\"/news/20191212/1600661.htm\" target=\"_blank\">遠航董座張綱維留下遺書：只求一死以謝罪</a></h3><h3><span class=\"date\">2019/12/12 17:03</span><em class=\"tag c_society\">社會</em><a href=\"/news/20191212/1600648.htm\" target=\"_blank\">快訊／北市廢棄物處理廠意外！男疑遭「拖車車斗重壓」...頭部重創命危</a></h3><h3><span class=\"date\">2019/12/12 17:03</span><em class=\"tag c_star\">影劇</em><a href=\"/news/20191212/1600636.htm\" target=\"_blank\"><i class=\"icon_type_video\"></i>基努李維《駭客任務4》上映日期曝光！跟《捍衛任務4》同一天</a></h3><h3><span class=\"date\">2019/12/12 17:02</span><em class=\"tag c_local\">地方</em><a href=\"/news/20191212/1600631.htm\" target=\"_blank\">台灣燈會主展區規劃「好神宗教燈區」　齊聚眾神護台灣</a></h3><h3><span class=\"date\">2019/12/12 17:02</span><em class=\"tag c_news\">政治</em><a href=\"/news/20191212/1600569.htm\" target=\"_blank\">快訊／民航局協調不出班機　韓國瑜金門行程全泡湯</a></h3><h3><span class=\"date\">2019/12/12 17:00</span><em class=\"tag c_lifestyle\">生活</em><a href=\"/news/20191212/1600651.htm\" target=\"_blank\">快訊／遠航張綱維傳遺書「只求以死謝罪」　目前未有出境紀錄</a></h3><h3><span class=\"date\">2019/12/12 17:00</span><em class=\"tag c_travel\">旅遊</em><a href=\"/news/20191212/1596504.htm\" target=\"_blank\">每一口都是料！台中最潮蒜味鹹魚炒飯　還有泰式打拋豬口味</a></h3><h3><span class=\"date\">2019/12/12 16:58</span><em class=\"tag c_china\">大陸</em><a href=\"/news/20191212/1600611.htm\" target=\"_blank\">影／7歲童鑽娃娃機洞「想偷布偶」…下秒卡住嚇壞急呼救！網笑翻：果然夾娃娃</a></h3><h3><span class=\"date\">2019/12/12 16:57</span><em class=\"tag c_health\">健康</em><a href=\"/news/20191212/1600617.htm\" target=\"_blank\">3年交5女友「愛愛太快慘遭分手」　醫師安慰：有人隔著褲子被摸就...</a></h3><h3><span class=\"date\">2019/12/12 16:56</span><em class=\"tag c_star\">影劇</em><a href=\"/news/20191212/1600643.htm\" target=\"_blank\"><i class=\"icon_type_video\"></i>「我不是宇宙最強」　甄子丹談12歲兒洩平凡：一輩子的課題</a></h3><h3><span class=\"date\">2019/12/12 16:56</span><em class=\"tag c_global\">國際</em><a href=\"/news/20191212/1600136.htm\" target=\"_blank\">韓籍女同志伴侶加拿大登記結婚　韓航視為「家人」同意合併里程</a></h3><h3><span class=\"date\">2019/12/12 16:55</span><em class=\"tag c_lifestyle\">生活</em><a href=\"/news/20191212/1600640.htm\" target=\"_blank\">遠航62年來3度易主！隔4年再度宣布停飛　張綱維持續失聯中</a></h3><h3><span class=\"date\">2019/12/12 16:54</span><em class=\"tag c_news\">政治</em><a href=\"/news/20191212/1600644.htm\" target=\"_blank\">助高雄發展！內政部：橋頭科學園區110年底可選地設廠</a></h3><h3><span class=\"date\">2019/12/12 16:54</span><em class=\"tag c_travel\">旅遊</em><a href=\"/news/20191212/1600623.htm\" target=\"_blank\"> 高雄樺舍商旅傳年底歇業　櫃檯員工稱不知情</a></h3><h3><span class=\"date\">2019/12/12 16:52</span><em class=\"tag c_news\">政治</em><a href=\"/news/20191212/1600632.htm\" target=\"_blank\">談「賭盤」遭綠委批包庇犯罪　張善政辦公室：執政黨掌資源最應主動調查</a></h3><h3><span class=\"date\">2019/12/12 16:51</span><em class=\"tag c_society\">社會</em><a href=\"/news/20191212/1600624.htm\" target=\"_blank\">國民黨台南後壁區黨部疑似爆裂物　鴨舌帽男清晨5點多放的</a></h3><h3><span class=\"date\">2019/12/12 16:51</span><em class=\"tag c_china\">大陸</em><a href=\"/news/20191212/1600614.htm\" target=\"_blank\">陸媒：中央經濟工作會議本周已召開　2020年「寬貨幣、緊信用、鬆財政」</a></h3><h3><span class=\"date\">2019/12/12 16:51</span><em class=\"tag c_china\">大陸</em><a href=\"/news/20191212/1600604.htm\" target=\"_blank\">回應「中國威脅論」　華春瑩：貓熊塊頭大但會比禿鷹危險？</a></h3><h3><span class=\"date\">2019/12/12 16:51</span><em class=\"tag c_global\">國際</em><a href=\"/news/20191212/1600444.htm\" target=\"_blank\">共諜案再曝6合夥人　澳智庫報告：向心與中國首位女中將有關係</a></h3><h3><span class=\"date\">2019/12/12 16:50</span><em class=\"tag c_lifestyle\">生活</em><a href=\"/news/20191212/1600634.htm\" target=\"_blank\">遠航停飛所有員工突失業！內部公告流出：最後在職日是12月13日</a></h3><h3><span class=\"date\">2019/12/12 16:49</span><em class=\"tag c_travel\">旅遊</em><a href=\"/news/20191212/1600533.htm\" target=\"_blank\">胖死也甘願！韓國8大必吃烤肉　超狂吃到飽5百有找、爽喝大醬湯</a></h3><h3><span class=\"date\">2019/12/12 16:47</span><em class=\"tag c_sport\">體育</em><a href=\"/news/20191212/1600586.htm\" target=\"_blank\"><i class=\"icon_type_video\"></i>雷納德告白「依舊愛著多倫多」　領冠軍戒假掉淚？羅瑞：是真的</a></h3><h3><span class=\"date\">2019/12/12 16:46</span><em class=\"tag c_star\">影劇</em><a href=\"/news/20191212/1600618.htm\" target=\"_blank\">Cosplay解放嫩腿！　咪妃「真實身材」被鏡子出賣…網嚇傻：小腿肌好壯</a></h3><h3><span class=\"date\">2019/12/12 16:45</span><em class=\"tag c_sport\">體育</em><a href=\"/news/20191212/1600628.htm\" target=\"_blank\">桌球年終賽／林昀儒、廖振珽男雙進4強　莊智淵搭陳建安不敵大陸</a></h3><h3><span class=\"date\">2019/12/12 16:45</span><em class=\"tag c_global\">國際</em><a href=\"/news/20191212/1600520.htm\" target=\"_blank\">斷氣17hrs才送醫！6歲童遭「水刑」溺暈　襯衫綁門上等死</a></h3><h3><span class=\"date\">2019/12/12 16:44</span><em class=\"tag c_society\">社會</em><a href=\"/news/20191212/1600371.htm\" target=\"_blank\"><i class=\"icon_type_video\"></i>半年沒聯絡...前女友約聊天：想做一件事！在他面前「淋汽油自焚」慘成焦屍</a></h3><h3><span class=\"date\">2019/12/12 16:43</span><em class=\"tag c_sport\">體育</em><a href=\"/news/20191212/1600625.htm\" target=\"_blank\">越南足球東南亞運動會奪首冠　朴恒緒再當國民英雄</a></h3><h3><span class=\"date\">2019/12/12 16:43</span><em class=\"tag c_finance\">財經</em><a href=\"/news/20191212/1600622.htm\" target=\"_blank\">遠航無預警停業　董座張綱維「三周沒露面」恐面臨三年以下有期徒刑</a></h3><h3><span class=\"date\">2019/12/12 16:43</span><em class=\"tag c_army\">軍武</em><a href=\"/news/20191212/1600595.htm\" target=\"_blank\">俄羅斯唯一航母「庫茲涅佐夫號」維修起火3傷1失蹤　濃煙猛竄畫面曝光</a></h3><h3><span class=\"date\">2019/12/12 16:42</span><em class=\"tag c_pet\">寵物動物</em><a href=\"/news/20191212/1600491.htm\" target=\"_blank\"><i class=\"icon_type_video\"></i>以為養貓不用「被拖著跑」　牠散步卻暴衝剩殘影...媽喘氣：我跟不上</a></h3><h3><span class=\"date\">2019/12/12 16:42</span><em class=\"tag c_society\">社會</em><a href=\"/news/20191212/1600308.htm\" target=\"_blank\">「為搶200元」拿酒瓶砸女！　石材美容師遭重判7年6月</a></h3><h3><span class=\"date\">2019/12/12 16:41</span><em class=\"tag c_lifestyle\">生活</em><a href=\"/news/20191212/1600597.htm\" target=\"_blank\"><i class=\"icon_type_video\"></i>遠航停業⋯副總哽咽致歉　民航局將開罰300萬元、負責人最重可關3年</a></h3><h3><span class=\"date\">2019/12/12 16:40</span><em class=\"tag c_news\">政治</em><a href=\"/news/20191212/1600592.htm\" target=\"_blank\">宋楚瑜「終局之搭」…閃過遠航停飛　澎湖返台搭華信</a></h3><h3><span class=\"date\">2019/12/12 16:38</span><em class=\"tag c_insurance\">保險</em><a href=\"/news/20191212/1600240.htm\" target=\"_blank\">快訊／南山代理董座尹崇堯人事案駁回　金管會要求重找新人選</a></h3><h3><span class=\"date\">2019/12/12 16:37</span><em class=\"tag c_local\">地方</em><a href=\"/news/20191212/1600613.htm\" target=\"_blank\">宜蘭鴨產業食農教育扎根　首站選定三星國小</a></h3><h3><span class=\"date\">2019/12/12 16:37</span><em class=\"tag c_local\">地方</em><a href=\"/news/20191212/1600577.htm\" target=\"_blank\">宜蘭黃金醃蘿蔔初體驗　蘇澳鎮長林明哲邀您品嘗頂寮蘿蔔好滋味！</a></h3><h3><span class=\"date\">2019/12/12 16:36</span><em class=\"tag c_lifestyle\">生活</em><a href=\"/news/20191212/1600602.htm\" target=\"_blank\">「泥巴叔叔」每看必哭！朱宗慶打擊樂團歲末壓軸　苗栗巡演最終站</a></h3><h3><span class=\"date\">2019/12/12 16:36</span><em class=\"tag c_lifestyle\">生活</em><a href=\"/news/20191212/1600584.htm\" target=\"_blank\">快訊／無預警停業！遠航高層鞠躬致歉：早上就聯繫不到張綱維</a></h3><h3><span class=\"date\">2019/12/12 16:36</span><em class=\"tag c_sport\">體育</em><a href=\"/news/20191212/1600534.htm\" target=\"_blank\">羽球年終賽／戴資穎逆轉退依瑟儂　首勝開張挺進4強還有機會</a></h3><h3><span class=\"date\">2019/12/12 16:34</span><em class=\"tag c_news\">政治</em><a href=\"/news/20191212/1600606.htm\" target=\"_blank\">張善政稱蔡韓賭盤已呈PK盤　民進黨團轟：包庇犯罪救選情</a></h3><h3><span class=\"date\">2019/12/12 16:33</span><em class=\"tag c_teck3c\">3C家電</em><a href=\"/news/20191212/1600599.htm\" target=\"_blank\">YouTube再修社群規範　遏止平台騷擾行為、違者最重被終止頻道</a></h3><h3><span class=\"date\">2019/12/12 16:32</span><em class=\"tag c_sport\">體育</em><a href=\"/news/20191212/1600608.htm\" target=\"_blank\">大專棒聯／中信8上失誤奉送4分　大同6比2退中信率先逃過降級</a></h3><h3><span class=\"date\">2019/12/12 16:31</span><em class=\"tag c_finance\">財經</em><a href=\"/news/20191212/1600603.htm\" target=\"_blank\">國內首家「文化科技種子基金」成立　施振榮再披戰袍任「科文双融」董事長</a></h3><h3><span class=\"date\">2019/12/12 16:30</span><em class=\"tag c_star\">影劇</em><a href=\"/news/20191212/1600601.htm\" target=\"_blank\">王思佳穿韓服被說「像黑山老妖」　玩遊戲變箭靶...氣哭：我不玩了！</a></h3><h3><span class=\"date\">2019/12/12 16:30</span><em class=\"tag c_society\">社會</em><a href=\"/news/20191212/1600590.htm\" target=\"_blank\">台日聯手緝獲漁船運安毒600公斤　破日方一次性查獲最多安毒數量紀錄</a></h3><h3><span class=\"date\">2019/12/12 16:30</span><em class=\"tag c_pet\">寵物動物</em><a href=\"/news/20191212/1600530.htm\" target=\"_blank\">打開監視器見「狗睡滿茶几」全家笑噴　回家發現有隱情</a></h3><h3><span class=\"date\">2019/12/12 16:29</span><em class=\"tag c_finance\">財經</em><a href=\"/news/20191212/1600598.htm\" target=\"_blank\">新台幣走強！收盤升值近1角　收30.406元兌1美元</a></h3><h3><span class=\"date\">2019/12/12 16:28</span><em class=\"tag c_lifestyle\">生活</em><a href=\"/news/20191212/1600561.htm\" target=\"_blank\">遠航二度易主！前老董崔湧曾「掏空23億」　棄保9000萬潛逃在美自殺亡</a></h3><h3><span class=\"date\">2019/12/12 16:25</span><em class=\"tag c_finance\">財經</em><a href=\"/news/20191212/1600596.htm\" target=\"_blank\">遠航「機齡不得超過26年」緊箍咒纏身　明年只剩ATR-72生財工具壓垮營運</a></h3><h3><span class=\"date\">2019/12/12 16:25</span><em class=\"tag c_news\">政治</em><a href=\"/news/20191212/1600594.htm\" target=\"_blank\">陳其邁親筆信曝光！給台灣：民主與進步是我們對妳的承諾</a></h3><h3><span class=\"date\">2019/12/12 16:25</span><em class=\"tag c_china\">大陸</em><a href=\"/news/20191212/1600576.htm\" target=\"_blank\">《路透》：習近平下週將訪澳門　宣佈多項支持發展金融措施</a></h3><h3><span class=\"date\">2019/12/12 16:25</span><em class=\"tag c_commentary\">論壇</em><a href=\"/news/20191212/1600564.htm\" target=\"_blank\">錢世傑／新世代「小資族」的生存法則</a></h3><h3><span class=\"date\">2019/12/12 16:25</span><em class=\"tag c_pet\">寵物動物</em><a href=\"/news/20191212/1600116.htm\" target=\"_blank\">動物園管理員餵獅子遭緊咬40秒　員工圍觀卻無人相救</a></h3><h3><span class=\"date\">2019/12/12 16:25</span><em class=\"tag c_pet\">寵物動物</em><a href=\"/news/20191212/1600090.htm\" target=\"_blank\">歐告將玩具扔下樓...媽厚臉皮丟紙條求援！　暖鄰居洗淨貼心送回</a></h3><h3><span class=\"date\">2019/12/12 16:24</span><em class=\"tag c_sport\">體育</em><a href=\"/news/20191212/1600560.htm\" target=\"_blank\">羽球年終賽／周天成三局逆轉安賽龍　小組中唯一先搶下2連勝</a></h3><h3><span class=\"date\">2019/12/12 16:24</span><em class=\"tag c_lifestyle\">生活</em><a href=\"/news/20191212/1600441.htm\" target=\"_blank\">Live／遠航無預警宣布12/13停業　民航局召開記者會說明</a></h3><h3><span class=\"date\">2019/12/12 16:22</span><em class=\"tag c_society\">社會</em><a href=\"/news/20191212/1600585.htm\" target=\"_blank\"><i class=\"icon_type_video\"></i>快訊／前晚與家人吵架...苗栗男摩鐵縱火「躲浴缸泡水」！警消急爬2樓救人</a></h3><h3><span class=\"date\">2019/12/12 16:21</span><em class=\"tag c_china\">大陸</em><a href=\"/news/20191212/1600181.htm\" target=\"_blank\">華聞快遞／長沙以工程機械擴大世界「朋友圈」　佈設全球推介會路線圖</a></h3><h3><span class=\"date\">2019/12/12 16:18</span><em class=\"tag c_finance\">財經</em><a href=\"/news/20191212/1600570.htm\" target=\"_blank\">「不負責任！」合庫怒斥遠航　放貸22億元急尋張綱維出面說明</a></h3><h3><span class=\"date\">2019/12/12 16:18</span><em class=\"tag c_novelty\">新奇</em><a href=\"/news/20191212/1600185.htm\" target=\"_blank\">排便蹲得好！　男滑一跤左腳插入馬桶「黑洞」</a></h3><h3><span class=\"date\">2019/12/12 16:17</span><em class=\"tag c_lifestyle\">生活</em><a href=\"/news/20191212/1600566.htm\" target=\"_blank\">早上剛訂票...下午就停飛！他參加活動拿遠航250元折價券卻不能用　氣炸：有夠傻眼</a></h3><h3><span class=\"date\">2019/12/12 16:16</span><em class=\"tag c_news\">政治</em><a href=\"/news/20191212/1600550.htm\" target=\"_blank\">「愛情摩天輪」設計圖曝光！進度停擺交通部　高市府怨：卡韓</a></h3><h3><span class=\"date\">2019/12/12 16:16</span><em class=\"tag c_china\">大陸</em><a href=\"/news/20191212/1600425.htm\" target=\"_blank\">球員名單6成寫錯　網友發現記者是正妹：錯字不重要！</a></h3><h3><span class=\"date\">2019/12/12 16:16</span><em class=\"tag c_pet\">寵物動物</em><a href=\"/news/20191212/1600258.htm\" target=\"_blank\"><i class=\"icon_type_video\"></i>狗狗「咬咬大刑」好頭痛！他列4狀況　正確相處「手不痛」</a></h3><h3><span class=\"date\">2019/12/12 16:15</span><em class=\"tag c_news\">政治</em><a href=\"/news/20191212/1600489.htm\" target=\"_blank\"><i class=\"icon_type_video\"></i>小三說？　張善政：那是周玉蔻說的！真是天方夜譚</a></h3><h3><span class=\"date\">2019/12/12 16:14</span><em class=\"tag c_finance\">財經</em><a href=\"/news/20191212/1600538.htm\" target=\"_blank\">【廣編】臺銀人壽推廣微型、小額終老及投資新創　深獲金管會肯定</a></h3><h3><span class=\"date\">2019/12/12 16:13</span><em class=\"tag c_lifestyle\">生活</em><a href=\"/news/20191212/1600583.htm\" target=\"_blank\">遠航停業苦主現身！合作業者嘆「108張機票成壁紙」：被倒了20萬元</a></h3><h3><span class=\"date\">2019/12/12 16:13</span><em class=\"tag c_news\">政治</em><a href=\"/news/20191212/1600578.htm\" target=\"_blank\">太珍貴了！「手工畫」看板在蔡英文台南競總　國寶職人顏振發一筆筆繪出</a></h3><h3><span class=\"date\">2019/12/12 16:13</span><em class=\"tag c_china\">大陸</em><a href=\"/news/20191212/1600497.htm\" target=\"_blank\">正妹記者寫錯15球員姓名！被肉搜出「雪白長腿+長輩」照...網：原諒她了</a></h3><h3><span class=\"date\">2019/12/12 16:13</span><em class=\"tag c_news\">政治</em><a href=\"/news/20191212/1600477.htm\" target=\"_blank\">韓國瑜成遠航停飛受災戶　13日飛金門班機被卡到</a></h3><h3><span class=\"date\">2019/12/12 16:12</span><em class=\"tag c_health\">健康</em><a href=\"/news/20191212/1600527.htm\" target=\"_blank\">只驗出紅色7號！「可口圓」少加1色素　標示不實最高可罰400萬</a></h3><h3><span class=\"date\">2019/12/12 16:11</span><em class=\"tag c_global\">國際</em><a href=\"/news/20191212/1600373.htm\" target=\"_blank\">女助教變淫亂藥頭！　帶15歲男學生在泳池「3P」一起開趴</a></h3><h3><span class=\"date\">2019/12/12 16:11</span><em class=\"tag c_lifestyle\">生活</em><a href=\"/news/20191212/1600102.htm\" target=\"_blank\">被說沒愛心！「紅鈴當服務鈴」吐辛酸　家屬0同理心…護理師：我不是看護</a></h3><h3><span class=\"date\">2019/12/12 16:10</span><em class=\"tag c_society\">社會</em><a href=\"/news/20191212/1600554.htm\" target=\"_blank\"><i class=\"icon_type_video\"></i>國民黨後壁黨部疑遭放爆裂物！「2大瓶不明液體」接電線...封鎖現場調查中</a></h3><h3><span class=\"date\">2019/12/12 16:09</span><em class=\"tag c_star\">影劇</em><a href=\"/news/20191212/1600575.htm\" target=\"_blank\">陳意涵感冒...老公貼心哄睡　許富翔超暖舉動網讚：爸爸型男友！</a></h3><h3><span class=\"date\">2019/12/12 16:09</span><em class=\"tag c_teck3c\">3C家電</em><a href=\"/news/20191212/1600571.htm\" target=\"_blank\">網友建議推出Switch版App　時隔2年Spotify正式回應：沒這計畫</a></h3><h3><span class=\"date\">2019/12/12 16:09</span><em class=\"tag c_news\">政治</em><a href=\"/news/20191212/1600399.htm\" target=\"_blank\">賴清德為張銘祐四度站台　 批羅明才「只考慮到自己的未來」</a></h3><h3><span class=\"date\">2019/12/12 16:08</span><em class=\"tag c_pet\">寵物動物</em><a href=\"/news/20191212/1600210.htm\" target=\"_blank\">才認識1天！最強「貓小三」霸佔男友　牠瞇眼擺「勝利微笑」示威</a></h3><h3><span class=\"date\">2019/12/12 16:06</span><em class=\"tag c_society\">社會</em><a href=\"/news/20191212/1600429.htm\" target=\"_blank\">走私安非他命600公斤！台日合作破跨國運毒集團　九州海域攔船逮4嫌</a></h3><h3><span class=\"date\">2019/12/12 16:05</span><em class=\"tag c_sport\">體育</em><a href=\"/news/20191212/1600573.htm\" target=\"_blank\">韓職英雄隊明年2月到高雄春訓　朴炳鎬、李政厚將來台</a></h3><h3><span class=\"date\">2019/12/12 16:05</span><em class=\"tag c_speed\">ET車雲</em><a href=\"/news/20191212/1599925.htm\" target=\"_blank\">福斯「巨無霸休旅」Altas又變大了　 新年式車型預告曝光！</a></h3><h3><span class=\"date\">2019/12/12 16:03</span><em class=\"tag c_news\">政治</em><a href=\"/news/20191212/1600558.htm\" target=\"_blank\"><i class=\"icon_type_video\"></i>韓國瑜張嘉郡聯合競選總部成立　韓國瑜：手臂彎內不彎出</a></h3><h3><span class=\"date\">2019/12/12 16:03</span><em class=\"tag c_lifestyle\">生活</em><a href=\"/news/20191212/1600503.htm\" target=\"_blank\">「10%服務費妳出」相親哥討錢：餐廳妳挑的　她真的給了…結局療癒炸</a></h3><h3><span class=\"date\">2019/12/12 16:03</span><em class=\"tag c_global\">國際</em><a href=\"/news/20191212/1600118.htm\" target=\"_blank\">黛妃「天鵝絨禮服」1054萬賣出　曾穿它和好萊塢影星共舞</a></h3>\n"
     ]
    }
   ],
   "source": [
    "#當list中有數字或tag等等，轉成string會報錯，所以先把data中每個元素先轉成str，方便之後把list轉成str\n",
    "new_data = [str(i) for i in data]\n",
    "#把list轉為string\n",
    "new_text = \"\".join(new_data)\n",
    "print(new_text)\n",
    "\n",
    "#法2 new_text = \"\".join(str(i) for i in data)"
   ]
  },
  {
   "cell_type": "code",
   "execution_count": 70,
   "metadata": {},
   "outputs": [],
   "source": [
    "#利用正則表達解析\n",
    "import re"
   ]
  },
  {
   "cell_type": "code",
   "execution_count": 239,
   "metadata": {
    "scrolled": true
   },
   "outputs": [
    {
     "name": "stdout",
     "output_type": "stream",
     "text": [
      "['八三夭泰國飆唱夯歌...全場「甩頭+衝撞」陷入瘋狂！', '蔡燦得凍齡演房思瑜的媽\\u3000怒轟導演「你騙我！」', '圓圓辣洩「激挺北半球」...上交友軟體曝喜訊：怕被誤認詐騙！', '直擊／亨利卡維爾「胸肌炸裂」西裝扣撐爆！\\u3000主持人問「你哪裡是軟的？」全場笑翻', '陳勢安尾牙狂接30場...樂當「空中飛人」！偷閒赴美踩雪度聖誕', '山下智久朝聖ARASHI演唱會！\\u3000「超嗨舉動」踩演唱會禁忌', '基努李維《駭客任務4》上映日期曝光！跟《捍衛任務4》同一天', '「我不是宇宙最強」\\u3000甄子丹談12歲兒洩平凡：一輩子的課題', 'Cosplay解放嫩腿！\\u3000咪妃「真實身材」被鏡子出賣…網嚇傻：小腿肌好壯', '王思佳穿韓服被說「像黑山老妖」\\u3000玩遊戲變箭靶...氣哭：我不玩了！', '陳意涵感冒...老公貼心哄睡\\u3000許富翔超暖舉動網讚：爸爸型男友！']\n"
     ]
    }
   ],
   "source": [
    "regex = '<em class=\"tag c_star\">.*?</em><a href=\"/news/\\d*/\\d*\\.htm\" target=\"_blank\">(?:<i class=\"icon_type_video\"></i>)*(.*?)</a>'\n",
    "print(re.findall(regex,new_text))"
   ]
  },
  {
   "cell_type": "code",
   "execution_count": 256,
   "metadata": {},
   "outputs": [
    {
     "name": "stdout",
     "output_type": "stream",
     "text": [
      "八三夭泰國飆唱夯歌...全場「甩頭+衝撞」陷入瘋狂！\n",
      "蔡燦得凍齡演房思瑜的媽　怒轟導演「你騙我！」\n",
      "圓圓辣洩「激挺北半球」...上交友軟體曝喜訊：怕被誤認詐騙！\n",
      "直擊／亨利卡維爾「胸肌炸裂」西裝扣撐爆！　主持人問「你哪裡是軟的？」全場笑翻\n",
      "陳勢安尾牙狂接30場...樂當「空中飛人」！偷閒赴美踩雪度聖誕\n",
      "山下智久朝聖ARASHI演唱會！　「超嗨舉動」踩演唱會禁忌\n",
      "基努李維《駭客任務4》上映日期曝光！跟《捍衛任務4》同一天\n",
      "「我不是宇宙最強」　甄子丹談12歲兒洩平凡：一輩子的課題\n",
      "Cosplay解放嫩腿！　咪妃「真實身材」被鏡子出賣…網嚇傻：小腿肌好壯\n",
      "王思佳穿韓服被說「像黑山老妖」　玩遊戲變箭靶...氣哭：我不玩了！\n",
      "陳意涵感冒...老公貼心哄睡　許富翔超暖舉動網讚：爸爸型男友！\n"
     ]
    }
   ],
   "source": [
    "regex = '<em class=\"tag c_star\">.*?</em><a href=\"/news/\\d*/\\d*\\.htm\" target=\"_blank\">(<i class=\"icon_type_video\"></i>)*(.*?)</a>'\n",
    "for i in re.findall(regex,new_text):\n",
    "    print(i[1])"
   ]
  },
  {
   "cell_type": "code",
   "execution_count": 178,
   "metadata": {},
   "outputs": [
    {
     "name": "stdout",
     "output_type": "stream",
     "text": [
      "<zip object at 0x00000167F4BB1948>\n",
      "[(1, 4), (2, 5), (3, 6)]\n"
     ]
    }
   ],
   "source": [
    "#zip小練習\n",
    "a=[1,2,3]\n",
    "b=[4,5,6]\n",
    "ab=zip(a,b)\n",
    "print(ab)\n",
    "print(list(ab))  #需要加list来可视化这个功能"
   ]
  },
  {
   "cell_type": "code",
   "execution_count": 176,
   "metadata": {},
   "outputs": [
    {
     "name": "stdout",
     "output_type": "stream",
     "text": [
      "[(1, 4), (2, 5), (3, 6)]\n",
      "0.5 8\n",
      "1.0 10\n",
      "1.5 12\n"
     ]
    }
   ],
   "source": [
    "a=[1,2,3]\n",
    "b=[4,5,6]\n",
    "ab=zip(a,b)\n",
    "print(list(ab))\n",
    "for i,j in zip(a,b):\n",
    "     print(i/2,j*2)"
   ]
  },
  {
   "cell_type": "code",
   "execution_count": 240,
   "metadata": {},
   "outputs": [
    {
     "name": "stdout",
     "output_type": "stream",
     "text": [
      "生活\n",
      "文章標題如下, 文章數=14\n",
      "['店裡逮到賊客！收到判決書「遭給1星評價」\\u3000店員一查傻眼：小偷男留的', '遠航工作區明斷水電拉封條…同仁忙清空\\u3000老機長嘆：有點難過', '快訊／遠航張綱維傳遺書「只求以死謝罪」\\u3000目前未有出境紀錄', '遠航62年來3度易主！隔4年再度宣布停飛\\u3000張綱維持續失聯中', '遠航停飛所有員工突失業！內部公告流出：最後在職日是12月13日', '遠航停業⋯副總哽咽致歉\\u3000民航局將開罰300萬元、負責人最重可關3年', '「泥巴叔叔」每看必哭！朱宗慶打擊樂團歲末壓軸\\u3000苗栗巡演最終站', '快訊／無預警停業！遠航高層鞠躬致歉：早上就聯繫不到張綱維', '遠航二度易主！前老董崔湧曾「掏空23億」\\u3000棄保9000萬潛逃在美自殺亡', 'Live／遠航無預警宣布12/13停業\\u3000民航局召開記者會說明', '早上剛訂票...下午就停飛！他參加活動拿遠航250元折價券卻不能用\\u3000氣炸：有夠傻眼', '遠航停業苦主現身！合作業者嘆「108張機票成壁紙」：被倒了20萬元', '被說沒愛心！「紅鈴當服務鈴」吐辛酸\\u3000家屬0同理心…護理師：我不是看護', '「10%服務費妳出」相親哥討錢：餐廳妳挑的\\u3000她真的給了…結局療癒炸'] \n",
      "\n",
      "影劇\n",
      "文章標題如下, 文章數=11\n",
      "['八三夭泰國飆唱夯歌...全場「甩頭+衝撞」陷入瘋狂！', '蔡燦得凍齡演房思瑜的媽\\u3000怒轟導演「你騙我！」', '圓圓辣洩「激挺北半球」...上交友軟體曝喜訊：怕被誤認詐騙！', '直擊／亨利卡維爾「胸肌炸裂」西裝扣撐爆！\\u3000主持人問「你哪裡是軟的？」全場笑翻', '陳勢安尾牙狂接30場...樂當「空中飛人」！偷閒赴美踩雪度聖誕', '山下智久朝聖ARASHI演唱會！\\u3000「超嗨舉動」踩演唱會禁忌', '基努李維《駭客任務4》上映日期曝光！跟《捍衛任務4》同一天', '「我不是宇宙最強」\\u3000甄子丹談12歲兒洩平凡：一輩子的課題', 'Cosplay解放嫩腿！\\u3000咪妃「真實身材」被鏡子出賣…網嚇傻：小腿肌好壯', '王思佳穿韓服被說「像黑山老妖」\\u3000玩遊戲變箭靶...氣哭：我不玩了！', '陳意涵感冒...老公貼心哄睡\\u3000許富翔超暖舉動網讚：爸爸型男友！'] \n",
      "\n",
      "體育\n",
      "文章標題如下, 文章數=8\n",
      "['大專棒聯／林家恩完封、陳政達3分砲\\u3000稻江送高雄大學下去打二級', '雷納德告白「依舊愛著多倫多」\\u3000領冠軍戒假掉淚？羅瑞：是真的', '桌球年終賽／林昀儒、廖振珽男雙進4強\\u3000莊智淵搭陳建安不敵大陸', '越南足球東南亞運動會奪首冠\\u3000朴恒緒再當國民英雄', '羽球年終賽／戴資穎逆轉退依瑟儂\\u3000首勝開張挺進4強還有機會', '大專棒聯／中信8上失誤奉送4分\\u3000大同6比2退中信率先逃過降級', '羽球年終賽／周天成三局逆轉安賽龍\\u3000小組中唯一先搶下2連勝', '韓職英雄隊明年2月到高雄春訓\\u3000朴炳鎬、李政厚將來台'] \n",
      "\n",
      "國際\n",
      "文章標題如下, 文章數=8\n",
      "['移民勇爬2樓火場濃煙中「扛出受困殘疾男」！西班牙政府考慮授予居留權', '幫忙帶小孩其實是戀童變態！\\u3000地方媽對親生兒下手還性侵3姪子', '迎接新年號！日本公布2019年度漢字「令」\\u3000榜單驚見傑尼斯男團', '韓籍女同志伴侶加拿大登記結婚\\u3000韓航視為「家人」同意合併里程', '共諜案再曝6合夥人\\u3000澳智庫報告：向心與中國首位女中將有關係', '斷氣17hrs才送醫！6歲童遭「水刑」溺暈\\u3000襯衫綁門上等死', '女助教變淫亂藥頭！\\u3000帶15歲男學生在泳池「3P」一起開趴', '黛妃「天鵝絨禮服」1054萬賣出\\u3000曾穿它和好萊塢影星共舞'] \n",
      "\n",
      "社會\n",
      "文章標題如下, 文章數=10\n",
      "['見下班滿滿人潮...北捷色狼貼近翹臀妹！「手指偷摸下半身」想落跑下場慘', '三重通訊行藏賭場！娃娃機店當出入口\\u300021警衝入抓25賭客扣33萬賭資', '快訊／北市廢棄物處理廠意外！男疑遭「拖車車斗重壓」...頭部重創命危', '國民黨台南後壁區黨部疑似爆裂物\\u3000鴨舌帽男清晨5點多放的', '半年沒聯絡...前女友約聊天：想做一件事！在他面前「淋汽油自焚」慘成焦屍', '「為搶200元」拿酒瓶砸女！\\u3000石材美容師遭重判7年6月', '台日聯手緝獲漁船運安毒600公斤\\u3000破日方一次性查獲最多安毒數量紀錄', '快訊／前晚與家人吵架...苗栗男摩鐵縱火「躲浴缸泡水」！警消急爬2樓救人', '國民黨後壁黨部疑遭放爆裂物！「2大瓶不明液體」接電線...封鎖現場調查中', '走私安非他命600公斤！台日合作破跨國運毒集團\\u3000九州海域攔船逮4嫌'] \n",
      "\n",
      "財經\n",
      "文章標題如下, 文章數=8\n",
      "['5G競標第三天總標金突破300億元！業者估需13日才可能超過500億', '遠航董座張綱維留下遺書：只求一死以謝罪', '遠航無預警停業\\u3000董座張綱維「三周沒露面」恐面臨三年以下有期徒刑', '國內首家「文化科技種子基金」成立\\u3000施振榮再披戰袍任「科文双融」董事長', '新台幣走強！收盤升值近1角\\u3000收30.406元兌1美元', '遠航「機齡不得超過26年」緊箍咒纏身\\u3000明年只剩ATR-72生財工具壓垮營運', '「不負責任！」合庫怒斥遠航\\u3000放貸22億元急尋張綱維出面說明', '【廣編】臺銀人壽推廣微型、小額終老及投資新創\\u3000深獲金管會肯定'] \n",
      "\n",
      "時尚\n",
      "文章標題如下, 文章數=1\n",
      "['貝克漢走出舒適圈其實怕怕的\\u3000挑戰高山越野滑雪回到18歲'] \n",
      "\n",
      "地方\n",
      "文章標題如下, 文章數=3\n",
      "['台灣燈會主展區規劃「好神宗教燈區」\\u3000齊聚眾神護台灣', '宜蘭鴨產業食農教育扎根\\u3000首站選定三星國小', '宜蘭黃金醃蘿蔔初體驗\\u3000蘇澳鎮長林明哲邀您品嘗頂寮蘿蔔好滋味！'] \n",
      "\n",
      "政治\n",
      "文章標題如下, 文章數=12\n",
      "['快訊／民航局協調不出班機\\u3000韓國瑜金門行程全泡湯', '助高雄發展！內政部：橋頭科學園區110年底可選地設廠', '談「賭盤」遭綠委批包庇犯罪\\u3000張善政辦公室：執政黨掌資源最應主動調查', '宋楚瑜「終局之搭」…閃過遠航停飛\\u3000澎湖返台搭華信', '張善政稱蔡韓賭盤已呈PK盤\\u3000民進黨團轟：包庇犯罪救選情', '陳其邁親筆信曝光！給台灣：民主與進步是我們對妳的承諾', '「愛情摩天輪」設計圖曝光！進度停擺交通部\\u3000高市府怨：卡韓', '小三說？\\u3000張善政：那是周玉蔻說的！真是天方夜譚', '太珍貴了！「手工畫」看板在蔡英文台南競總\\u3000國寶職人顏振發一筆筆繪出', '韓國瑜成遠航停飛受災戶\\u300013日飛金門班機被卡到', '賴清德為張銘祐四度站台\\u3000 批羅明才「只考慮到自己的未來」', '韓國瑜張嘉郡聯合競選總部成立\\u3000韓國瑜：手臂彎內不彎出'] \n",
      "\n",
      "旅遊\n",
      "文章標題如下, 文章數=3\n",
      "['每一口都是料！台中最潮蒜味鹹魚炒飯\\u3000還有泰式打拋豬口味', ' 高雄樺舍商旅傳年底歇業\\u3000櫃檯員工稱不知情', '胖死也甘願！韓國8大必吃烤肉\\u3000超狂吃到飽5百有找、爽喝大醬湯'] \n",
      "\n",
      "大陸\n",
      "文章標題如下, 文章數=7\n",
      "['影／7歲童鑽娃娃機洞「想偷布偶」…下秒卡住嚇壞急呼救！網笑翻：果然夾娃娃', '陸媒：中央經濟工作會議本周已召開\\u30002020年「寬貨幣、緊信用、鬆財政」', '回應「中國威脅論」\\u3000華春瑩：貓熊塊頭大但會比禿鷹危險？', '《路透》：習近平下週將訪澳門\\u3000宣佈多項支持發展金融措施', '華聞快遞／長沙以工程機械擴大世界「朋友圈」\\u3000佈設全球推介會路線圖', '球員名單6成寫錯\\u3000網友發現記者是正妹：錯字不重要！', '正妹記者寫錯15球員姓名！被肉搜出「雪白長腿+長輩」照...網：原諒她了'] \n",
      "\n",
      "健康\n",
      "文章標題如下, 文章數=2\n",
      "['3年交5女友「愛愛太快慘遭分手」\\u3000醫師安慰：有人隔著褲子被摸就...', '只驗出紅色7號！「可口圓」少加1色素\\u3000標示不實最高可罰400萬'] \n",
      "\n",
      "軍武\n",
      "文章標題如下, 文章數=1\n",
      "['俄羅斯唯一航母「庫茲涅佐夫號」維修起火3傷1失蹤\\u3000濃煙猛竄畫面曝光'] \n",
      "\n",
      "寵物動物\n",
      "文章標題如下, 文章數=6\n",
      "['以為養貓不用「被拖著跑」\\u3000牠散步卻暴衝剩殘影...媽喘氣：我跟不上', '打開監視器見「狗睡滿茶几」全家笑噴\\u3000回家發現有隱情', '動物園管理員餵獅子遭緊咬40秒\\u3000員工圍觀卻無人相救', '歐告將玩具扔下樓...媽厚臉皮丟紙條求援！\\u3000暖鄰居洗淨貼心送回', '狗狗「咬咬大刑」好頭痛！他列4狀況\\u3000正確相處「手不痛」', '才認識1天！最強「貓小三」霸佔男友\\u3000牠瞇眼擺「勝利微笑」示威'] \n",
      "\n",
      "保險\n",
      "文章標題如下, 文章數=1\n",
      "['快訊／南山代理董座尹崇堯人事案駁回\\u3000金管會要求重找新人選'] \n",
      "\n",
      "3C家電\n",
      "文章標題如下, 文章數=2\n",
      "['YouTube再修社群規範\\u3000遏止平台騷擾行為、違者最重被終止頻道', '網友建議推出Switch版App\\u3000時隔2年Spotify正式回應：沒這計畫'] \n",
      "\n",
      "論壇\n",
      "文章標題如下, 文章數=1\n",
      "['錢世傑／新世代「小資族」的生存法則'] \n",
      "\n",
      "新奇\n",
      "文章標題如下, 文章數=1\n",
      "['排便蹲得好！\\u3000男滑一跤左腳插入馬桶「黑洞」'] \n",
      "\n",
      "ET車雲\n",
      "文章標題如下, 文章數=1\n",
      "['福斯「巨無霸休旅」Altas又變大了\\u3000 新年式車型預告曝光！'] \n",
      "\n"
     ]
    }
   ],
   "source": [
    "#打印出 各類別下不同的title\n",
    "final_data = zip(class_name2,uniq_list)\n",
    "for i,j in final_data:\n",
    "    var = i\n",
    "    regex = f'<em class=\"tag {var}\">.*?</em><a href=\"/news/\\d*/\\d*\\.htm\" target=\"_blank\">(?:<i class=\"icon_type_video\"></i>)*(.*?)</a>'  \n",
    "    print(j)\n",
    "    print(\"文章標題如下,\",f\"文章數={len(re.findall(regex,new_text))}\")\n",
    "    print(re.findall(regex,new_text),'\\n')"
   ]
  },
  {
   "cell_type": "markdown",
   "metadata": {},
   "source": [
    "### ③ 哪一個類別的文章最多"
   ]
  },
  {
   "cell_type": "code",
   "execution_count": 243,
   "metadata": {
    "scrolled": true
   },
   "outputs": [
    {
     "name": "stdout",
     "output_type": "stream",
     "text": [
      "生活\n",
      "文章標題如下, 文章數=14\n",
      "\n",
      "店裡逮到賊客！收到判決書「遭給1星評價」　店員一查傻眼：小偷男留的\n",
      "遠航工作區明斷水電拉封條…同仁忙清空　老機長嘆：有點難過\n",
      "快訊／遠航張綱維傳遺書「只求以死謝罪」　目前未有出境紀錄\n",
      "遠航62年來3度易主！隔4年再度宣布停飛　張綱維持續失聯中\n",
      "遠航停飛所有員工突失業！內部公告流出：最後在職日是12月13日\n",
      "遠航停業⋯副總哽咽致歉　民航局將開罰300萬元、負責人最重可關3年\n",
      "「泥巴叔叔」每看必哭！朱宗慶打擊樂團歲末壓軸　苗栗巡演最終站\n",
      "快訊／無預警停業！遠航高層鞠躬致歉：早上就聯繫不到張綱維\n",
      "遠航二度易主！前老董崔湧曾「掏空23億」　棄保9000萬潛逃在美自殺亡\n",
      "Live／遠航無預警宣布12/13停業　民航局召開記者會說明\n",
      "早上剛訂票...下午就停飛！他參加活動拿遠航250元折價券卻不能用　氣炸：有夠傻眼\n",
      "遠航停業苦主現身！合作業者嘆「108張機票成壁紙」：被倒了20萬元\n",
      "被說沒愛心！「紅鈴當服務鈴」吐辛酸　家屬0同理心…護理師：我不是看護\n",
      "「10%服務費妳出」相親哥討錢：餐廳妳挑的　她真的給了…結局療癒炸 \n",
      "\n",
      "影劇\n",
      "文章標題如下, 文章數=11\n",
      "\n",
      "八三夭泰國飆唱夯歌...全場「甩頭+衝撞」陷入瘋狂！\n",
      "蔡燦得凍齡演房思瑜的媽　怒轟導演「你騙我！」\n",
      "圓圓辣洩「激挺北半球」...上交友軟體曝喜訊：怕被誤認詐騙！\n",
      "直擊／亨利卡維爾「胸肌炸裂」西裝扣撐爆！　主持人問「你哪裡是軟的？」全場笑翻\n",
      "陳勢安尾牙狂接30場...樂當「空中飛人」！偷閒赴美踩雪度聖誕\n",
      "山下智久朝聖ARASHI演唱會！　「超嗨舉動」踩演唱會禁忌\n",
      "基努李維《駭客任務4》上映日期曝光！跟《捍衛任務4》同一天\n",
      "「我不是宇宙最強」　甄子丹談12歲兒洩平凡：一輩子的課題\n",
      "Cosplay解放嫩腿！　咪妃「真實身材」被鏡子出賣…網嚇傻：小腿肌好壯\n",
      "王思佳穿韓服被說「像黑山老妖」　玩遊戲變箭靶...氣哭：我不玩了！\n",
      "陳意涵感冒...老公貼心哄睡　許富翔超暖舉動網讚：爸爸型男友！ \n",
      "\n",
      "體育\n",
      "文章標題如下, 文章數=8\n",
      "\n",
      "大專棒聯／林家恩完封、陳政達3分砲　稻江送高雄大學下去打二級\n",
      "雷納德告白「依舊愛著多倫多」　領冠軍戒假掉淚？羅瑞：是真的\n",
      "桌球年終賽／林昀儒、廖振珽男雙進4強　莊智淵搭陳建安不敵大陸\n",
      "越南足球東南亞運動會奪首冠　朴恒緒再當國民英雄\n",
      "羽球年終賽／戴資穎逆轉退依瑟儂　首勝開張挺進4強還有機會\n",
      "大專棒聯／中信8上失誤奉送4分　大同6比2退中信率先逃過降級\n",
      "羽球年終賽／周天成三局逆轉安賽龍　小組中唯一先搶下2連勝\n",
      "韓職英雄隊明年2月到高雄春訓　朴炳鎬、李政厚將來台 \n",
      "\n",
      "國際\n",
      "文章標題如下, 文章數=8\n",
      "\n",
      "移民勇爬2樓火場濃煙中「扛出受困殘疾男」！西班牙政府考慮授予居留權\n",
      "幫忙帶小孩其實是戀童變態！　地方媽對親生兒下手還性侵3姪子\n",
      "迎接新年號！日本公布2019年度漢字「令」　榜單驚見傑尼斯男團\n",
      "韓籍女同志伴侶加拿大登記結婚　韓航視為「家人」同意合併里程\n",
      "共諜案再曝6合夥人　澳智庫報告：向心與中國首位女中將有關係\n",
      "斷氣17hrs才送醫！6歲童遭「水刑」溺暈　襯衫綁門上等死\n",
      "女助教變淫亂藥頭！　帶15歲男學生在泳池「3P」一起開趴\n",
      "黛妃「天鵝絨禮服」1054萬賣出　曾穿它和好萊塢影星共舞 \n",
      "\n",
      "社會\n",
      "文章標題如下, 文章數=10\n",
      "\n",
      "見下班滿滿人潮...北捷色狼貼近翹臀妹！「手指偷摸下半身」想落跑下場慘\n",
      "三重通訊行藏賭場！娃娃機店當出入口　21警衝入抓25賭客扣33萬賭資\n",
      "快訊／北市廢棄物處理廠意外！男疑遭「拖車車斗重壓」...頭部重創命危\n",
      "國民黨台南後壁區黨部疑似爆裂物　鴨舌帽男清晨5點多放的\n",
      "半年沒聯絡...前女友約聊天：想做一件事！在他面前「淋汽油自焚」慘成焦屍\n",
      "「為搶200元」拿酒瓶砸女！　石材美容師遭重判7年6月\n",
      "台日聯手緝獲漁船運安毒600公斤　破日方一次性查獲最多安毒數量紀錄\n",
      "快訊／前晚與家人吵架...苗栗男摩鐵縱火「躲浴缸泡水」！警消急爬2樓救人\n",
      "國民黨後壁黨部疑遭放爆裂物！「2大瓶不明液體」接電線...封鎖現場調查中\n",
      "走私安非他命600公斤！台日合作破跨國運毒集團　九州海域攔船逮4嫌 \n",
      "\n",
      "財經\n",
      "文章標題如下, 文章數=8\n",
      "\n",
      "5G競標第三天總標金突破300億元！業者估需13日才可能超過500億\n",
      "遠航董座張綱維留下遺書：只求一死以謝罪\n",
      "遠航無預警停業　董座張綱維「三周沒露面」恐面臨三年以下有期徒刑\n",
      "國內首家「文化科技種子基金」成立　施振榮再披戰袍任「科文双融」董事長\n",
      "新台幣走強！收盤升值近1角　收30.406元兌1美元\n",
      "遠航「機齡不得超過26年」緊箍咒纏身　明年只剩ATR-72生財工具壓垮營運\n",
      "「不負責任！」合庫怒斥遠航　放貸22億元急尋張綱維出面說明\n",
      "【廣編】臺銀人壽推廣微型、小額終老及投資新創　深獲金管會肯定 \n",
      "\n",
      "時尚\n",
      "文章標題如下, 文章數=1\n",
      "\n",
      "貝克漢走出舒適圈其實怕怕的　挑戰高山越野滑雪回到18歲 \n",
      "\n",
      "地方\n",
      "文章標題如下, 文章數=3\n",
      "\n",
      "台灣燈會主展區規劃「好神宗教燈區」　齊聚眾神護台灣\n",
      "宜蘭鴨產業食農教育扎根　首站選定三星國小\n",
      "宜蘭黃金醃蘿蔔初體驗　蘇澳鎮長林明哲邀您品嘗頂寮蘿蔔好滋味！ \n",
      "\n",
      "政治\n",
      "文章標題如下, 文章數=12\n",
      "\n",
      "快訊／民航局協調不出班機　韓國瑜金門行程全泡湯\n",
      "助高雄發展！內政部：橋頭科學園區110年底可選地設廠\n",
      "談「賭盤」遭綠委批包庇犯罪　張善政辦公室：執政黨掌資源最應主動調查\n",
      "宋楚瑜「終局之搭」…閃過遠航停飛　澎湖返台搭華信\n",
      "張善政稱蔡韓賭盤已呈PK盤　民進黨團轟：包庇犯罪救選情\n",
      "陳其邁親筆信曝光！給台灣：民主與進步是我們對妳的承諾\n",
      "「愛情摩天輪」設計圖曝光！進度停擺交通部　高市府怨：卡韓\n",
      "小三說？　張善政：那是周玉蔻說的！真是天方夜譚\n",
      "太珍貴了！「手工畫」看板在蔡英文台南競總　國寶職人顏振發一筆筆繪出\n",
      "韓國瑜成遠航停飛受災戶　13日飛金門班機被卡到\n",
      "賴清德為張銘祐四度站台　 批羅明才「只考慮到自己的未來」\n",
      "韓國瑜張嘉郡聯合競選總部成立　韓國瑜：手臂彎內不彎出 \n",
      "\n",
      "旅遊\n",
      "文章標題如下, 文章數=3\n",
      "\n",
      "每一口都是料！台中最潮蒜味鹹魚炒飯　還有泰式打拋豬口味\n",
      " 高雄樺舍商旅傳年底歇業　櫃檯員工稱不知情\n",
      "胖死也甘願！韓國8大必吃烤肉　超狂吃到飽5百有找、爽喝大醬湯 \n",
      "\n",
      "大陸\n",
      "文章標題如下, 文章數=7\n",
      "\n",
      "影／7歲童鑽娃娃機洞「想偷布偶」…下秒卡住嚇壞急呼救！網笑翻：果然夾娃娃\n",
      "陸媒：中央經濟工作會議本周已召開　2020年「寬貨幣、緊信用、鬆財政」\n",
      "回應「中國威脅論」　華春瑩：貓熊塊頭大但會比禿鷹危險？\n",
      "《路透》：習近平下週將訪澳門　宣佈多項支持發展金融措施\n",
      "華聞快遞／長沙以工程機械擴大世界「朋友圈」　佈設全球推介會路線圖\n",
      "球員名單6成寫錯　網友發現記者是正妹：錯字不重要！\n",
      "正妹記者寫錯15球員姓名！被肉搜出「雪白長腿+長輩」照...網：原諒她了 \n",
      "\n",
      "健康\n",
      "文章標題如下, 文章數=2\n",
      "\n",
      "3年交5女友「愛愛太快慘遭分手」　醫師安慰：有人隔著褲子被摸就...\n",
      "只驗出紅色7號！「可口圓」少加1色素　標示不實最高可罰400萬 \n",
      "\n",
      "軍武\n",
      "文章標題如下, 文章數=1\n",
      "\n",
      "俄羅斯唯一航母「庫茲涅佐夫號」維修起火3傷1失蹤　濃煙猛竄畫面曝光 \n",
      "\n",
      "寵物動物\n",
      "文章標題如下, 文章數=6\n",
      "\n",
      "以為養貓不用「被拖著跑」　牠散步卻暴衝剩殘影...媽喘氣：我跟不上\n",
      "打開監視器見「狗睡滿茶几」全家笑噴　回家發現有隱情\n",
      "動物園管理員餵獅子遭緊咬40秒　員工圍觀卻無人相救\n",
      "歐告將玩具扔下樓...媽厚臉皮丟紙條求援！　暖鄰居洗淨貼心送回\n",
      "狗狗「咬咬大刑」好頭痛！他列4狀況　正確相處「手不痛」\n",
      "才認識1天！最強「貓小三」霸佔男友　牠瞇眼擺「勝利微笑」示威 \n",
      "\n",
      "保險\n",
      "文章標題如下, 文章數=1\n",
      "\n",
      "快訊／南山代理董座尹崇堯人事案駁回　金管會要求重找新人選 \n",
      "\n",
      "3C家電\n",
      "文章標題如下, 文章數=2\n",
      "\n",
      "YouTube再修社群規範　遏止平台騷擾行為、違者最重被終止頻道\n",
      "網友建議推出Switch版App　時隔2年Spotify正式回應：沒這計畫 \n",
      "\n",
      "論壇\n",
      "文章標題如下, 文章數=1\n",
      "\n",
      "錢世傑／新世代「小資族」的生存法則 \n",
      "\n",
      "新奇\n",
      "文章標題如下, 文章數=1\n",
      "\n",
      "排便蹲得好！　男滑一跤左腳插入馬桶「黑洞」 \n",
      "\n",
      "ET車雲\n",
      "文章標題如下, 文章數=1\n",
      "\n",
      "福斯「巨無霸休旅」Altas又變大了　 新年式車型預告曝光！ \n",
      "\n",
      "[14, 11, 8, 8, 10, 8, 1, 3, 12, 3, 7, 2, 1, 6, 1, 2, 1, 1, 1]\n",
      "['生活', '影劇', '體育', '國際', '社會', '財經', '時尚', '地方', '政治', '旅遊', '大陸', '健康', '軍武', '寵物動物', '保險', '3C家電', '論壇', '新奇', 'ET車雲']\n"
     ]
    },
    {
     "data": {
      "text/plain": [
       "14"
      ]
     },
     "execution_count": 243,
     "metadata": {},
     "output_type": "execute_result"
    }
   ],
   "source": [
    "#打印出 各類別下不同的title\n",
    "final_data = zip(class_name2,uniq_list)\n",
    "num_title = []\n",
    "name_title = []\n",
    "for i,j in final_data:\n",
    "\n",
    "    regex = f'<em class=\"tag {i}\">.*?</em><a href=\"/news/\\d*/\\d*\\.htm\" target=\"_blank\">(?:<i class=\"icon_type_video\"></i>)*(.*?)</a>' \n",
    "    num_title.append(len(re.findall(regex,new_text)))\n",
    "    name_title.append(j)\n",
    "    print(j)\n",
    "    print(\"文章標題如下,\",f\"文章數={len(re.findall(regex,new_text))}\\n\")\n",
    "    print(\"\\n\".join(re.findall(regex,new_text)),\"\\n\")\n",
    "\n",
    "print(num_title)\n",
    "print(name_title)\n",
    "max(num_title)"
   ]
  },
  {
   "cell_type": "code",
   "execution_count": 221,
   "metadata": {},
   "outputs": [
    {
     "data": {
      "text/plain": [
       "'生活'"
      ]
     },
     "execution_count": 221,
     "metadata": {},
     "output_type": "execute_result"
    }
   ],
   "source": [
    "#取出文章數最多的類別名稱\n",
    "name_title[num_title.index(max(num_title))]"
   ]
  },
  {
   "cell_type": "code",
   "execution_count": null,
   "metadata": {},
   "outputs": [],
   "source": []
  }
 ],
 "metadata": {
  "kernelspec": {
   "display_name": "Python 3",
   "language": "python",
   "name": "python3"
  },
  "language_info": {
   "codemirror_mode": {
    "name": "ipython",
    "version": 3
   },
   "file_extension": ".py",
   "mimetype": "text/x-python",
   "name": "python",
   "nbconvert_exporter": "python",
   "pygments_lexer": "ipython3",
   "version": "3.7.4"
  }
 },
 "nbformat": 4,
 "nbformat_minor": 2
}
